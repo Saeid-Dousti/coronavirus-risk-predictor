{
 "cells": [
  {
   "cell_type": "code",
   "execution_count": 1,
   "metadata": {},
   "outputs": [],
   "source": [
    "import csv\n",
    "import json\n",
    "import datetime\n",
    "import pandas as pd\n",
    "import numpy as np\n",
    "from gensim.models import phrases \n",
    "from gensim import corpora, models, similarities #calc all similarities at once, from http://radimrehurek.com/gensim/tut3.html\n",
    "from scipy import spatial\n",
    "from gensim.models import Word2Vec, KeyedVectors\n",
    "import requests"
   ]
  },
  {
   "cell_type": "code",
   "execution_count": 2,
   "metadata": {},
   "outputs": [
    {
     "data": {
      "text/html": [
       "<div>\n",
       "<style scoped>\n",
       "    .dataframe tbody tr th:only-of-type {\n",
       "        vertical-align: middle;\n",
       "    }\n",
       "\n",
       "    .dataframe tbody tr th {\n",
       "        vertical-align: top;\n",
       "    }\n",
       "\n",
       "    .dataframe thead th {\n",
       "        text-align: right;\n",
       "    }\n",
       "</style>\n",
       "<table border=\"1\" class=\"dataframe\">\n",
       "  <thead>\n",
       "    <tr style=\"text-align: right;\">\n",
       "      <th></th>\n",
       "      <th>0</th>\n",
       "      <th>1</th>\n",
       "      <th>2</th>\n",
       "      <th>3</th>\n",
       "      <th>4</th>\n",
       "      <th>5</th>\n",
       "      <th>6</th>\n",
       "      <th>7</th>\n",
       "      <th>8</th>\n",
       "      <th>9</th>\n",
       "      <th>...</th>\n",
       "      <th>av_temp</th>\n",
       "      <th>sun_hrs</th>\n",
       "      <th>wind_kmh</th>\n",
       "      <th>rain_mm</th>\n",
       "      <th>density</th>\n",
       "      <th>population</th>\n",
       "      <th>healthins1</th>\n",
       "      <th>healthins2</th>\n",
       "      <th>poverty_score1</th>\n",
       "      <th>poverty_score2</th>\n",
       "    </tr>\n",
       "  </thead>\n",
       "  <tbody>\n",
       "    <tr>\n",
       "      <th>0</th>\n",
       "      <td>0.067387</td>\n",
       "      <td>-0.029608</td>\n",
       "      <td>-0.128419</td>\n",
       "      <td>0.162152</td>\n",
       "      <td>0.163158</td>\n",
       "      <td>-0.102111</td>\n",
       "      <td>0.026653</td>\n",
       "      <td>0.042646</td>\n",
       "      <td>-0.0743</td>\n",
       "      <td>0.06013</td>\n",
       "      <td>...</td>\n",
       "      <td>18.0</td>\n",
       "      <td>14.5</td>\n",
       "      <td>11.0</td>\n",
       "      <td>0.0</td>\n",
       "      <td>3.716683</td>\n",
       "      <td>5398.0</td>\n",
       "      <td>3555.0</td>\n",
       "      <td>324.0</td>\n",
       "      <td>511.0</td>\n",
       "      <td>54465.0</td>\n",
       "    </tr>\n",
       "    <tr>\n",
       "      <th>1</th>\n",
       "      <td>0.067387</td>\n",
       "      <td>-0.029608</td>\n",
       "      <td>-0.128419</td>\n",
       "      <td>0.162152</td>\n",
       "      <td>0.163158</td>\n",
       "      <td>-0.102111</td>\n",
       "      <td>0.026653</td>\n",
       "      <td>0.042646</td>\n",
       "      <td>-0.0743</td>\n",
       "      <td>0.06013</td>\n",
       "      <td>...</td>\n",
       "      <td>15.0</td>\n",
       "      <td>13.5</td>\n",
       "      <td>8.0</td>\n",
       "      <td>38.2</td>\n",
       "      <td>3.716683</td>\n",
       "      <td>5398.0</td>\n",
       "      <td>3555.0</td>\n",
       "      <td>324.0</td>\n",
       "      <td>511.0</td>\n",
       "      <td>54465.0</td>\n",
       "    </tr>\n",
       "    <tr>\n",
       "      <th>2</th>\n",
       "      <td>0.067387</td>\n",
       "      <td>-0.029608</td>\n",
       "      <td>-0.128419</td>\n",
       "      <td>0.162152</td>\n",
       "      <td>0.163158</td>\n",
       "      <td>-0.102111</td>\n",
       "      <td>0.026653</td>\n",
       "      <td>0.042646</td>\n",
       "      <td>-0.0743</td>\n",
       "      <td>0.06013</td>\n",
       "      <td>...</td>\n",
       "      <td>13.0</td>\n",
       "      <td>11.3</td>\n",
       "      <td>16.0</td>\n",
       "      <td>0.0</td>\n",
       "      <td>105.750646</td>\n",
       "      <td>36073.0</td>\n",
       "      <td>24997.0</td>\n",
       "      <td>3305.0</td>\n",
       "      <td>3387.0</td>\n",
       "      <td>63681.0</td>\n",
       "    </tr>\n",
       "    <tr>\n",
       "      <th>3</th>\n",
       "      <td>0.067387</td>\n",
       "      <td>-0.029608</td>\n",
       "      <td>-0.128419</td>\n",
       "      <td>0.162152</td>\n",
       "      <td>0.163158</td>\n",
       "      <td>-0.102111</td>\n",
       "      <td>0.026653</td>\n",
       "      <td>0.042646</td>\n",
       "      <td>-0.0743</td>\n",
       "      <td>0.06013</td>\n",
       "      <td>...</td>\n",
       "      <td>21.0</td>\n",
       "      <td>14.5</td>\n",
       "      <td>8.0</td>\n",
       "      <td>0.0</td>\n",
       "      <td>1034.719877</td>\n",
       "      <td>2188649.0</td>\n",
       "      <td>1776493.0</td>\n",
       "      <td>118292.0</td>\n",
       "      <td>202628.0</td>\n",
       "      <td>94822.0</td>\n",
       "    </tr>\n",
       "    <tr>\n",
       "      <th>4</th>\n",
       "      <td>0.067387</td>\n",
       "      <td>-0.029608</td>\n",
       "      <td>-0.128419</td>\n",
       "      <td>0.162152</td>\n",
       "      <td>0.163158</td>\n",
       "      <td>-0.102111</td>\n",
       "      <td>0.026653</td>\n",
       "      <td>0.042646</td>\n",
       "      <td>-0.0743</td>\n",
       "      <td>0.06013</td>\n",
       "      <td>...</td>\n",
       "      <td>25.0</td>\n",
       "      <td>9.4</td>\n",
       "      <td>13.0</td>\n",
       "      <td>36.4</td>\n",
       "      <td>73475.209692</td>\n",
       "      <td>1664727.0</td>\n",
       "      <td>1270399.0</td>\n",
       "      <td>83332.0</td>\n",
       "      <td>245347.0</td>\n",
       "      <td>84610.0</td>\n",
       "    </tr>\n",
       "  </tbody>\n",
       "</table>\n",
       "<p>5 rows × 113 columns</p>\n",
       "</div>"
      ],
      "text/plain": [
       "          0         1         2         3         4         5         6  \\\n",
       "0  0.067387 -0.029608 -0.128419  0.162152  0.163158 -0.102111  0.026653   \n",
       "1  0.067387 -0.029608 -0.128419  0.162152  0.163158 -0.102111  0.026653   \n",
       "2  0.067387 -0.029608 -0.128419  0.162152  0.163158 -0.102111  0.026653   \n",
       "3  0.067387 -0.029608 -0.128419  0.162152  0.163158 -0.102111  0.026653   \n",
       "4  0.067387 -0.029608 -0.128419  0.162152  0.163158 -0.102111  0.026653   \n",
       "\n",
       "          7       8        9  ...  av_temp  sun_hrs  wind_kmh  rain_mm  \\\n",
       "0  0.042646 -0.0743  0.06013  ...     18.0     14.5      11.0      0.0   \n",
       "1  0.042646 -0.0743  0.06013  ...     15.0     13.5       8.0     38.2   \n",
       "2  0.042646 -0.0743  0.06013  ...     13.0     11.3      16.0      0.0   \n",
       "3  0.042646 -0.0743  0.06013  ...     21.0     14.5       8.0      0.0   \n",
       "4  0.042646 -0.0743  0.06013  ...     25.0      9.4      13.0     36.4   \n",
       "\n",
       "        density  population  healthins1  healthins2  poverty_score1  \\\n",
       "0      3.716683      5398.0      3555.0       324.0           511.0   \n",
       "1      3.716683      5398.0      3555.0       324.0           511.0   \n",
       "2    105.750646     36073.0     24997.0      3305.0          3387.0   \n",
       "3   1034.719877   2188649.0   1776493.0    118292.0        202628.0   \n",
       "4  73475.209692   1664727.0   1270399.0     83332.0        245347.0   \n",
       "\n",
       "   poverty_score2  \n",
       "0         54465.0  \n",
       "1         54465.0  \n",
       "2         63681.0  \n",
       "3         94822.0  \n",
       "4         84610.0  \n",
       "\n",
       "[5 rows x 113 columns]"
      ]
     },
     "execution_count": 2,
     "metadata": {},
     "output_type": "execute_result"
    }
   ],
   "source": [
    "datafile = 'C:/Users/marce/Documents/Insight_Project/Project/data/processed/triplet_training_data_with_features.csv'\n",
    "data = pd.read_csv(datafile, index_col=0)\n",
    "\n",
    "\n",
    "\n",
    "corr_matrix = data.corr()\n",
    "corr_matrix[\"scores\"].sort_values(ascending=False)\n",
    "\n",
    "y = data['scores']\n",
    "X = data.iloc[:,:113]\n",
    "\n",
    "X.head()"
   ]
  },
  {
   "cell_type": "markdown",
   "metadata": {},
   "source": [
    "# Boosted Trees\n",
    "\n",
    "Due to the nature of the data - decision trees make the most sense"
   ]
  },
  {
   "cell_type": "code",
   "execution_count": 3,
   "metadata": {},
   "outputs": [
    {
     "ename": "NameError",
     "evalue": "name 'SMOTE' is not defined",
     "output_type": "error",
     "traceback": [
      "\u001b[1;31m---------------------------------------------------------------------------\u001b[0m",
      "\u001b[1;31mNameError\u001b[0m                                 Traceback (most recent call last)",
      "\u001b[1;32m<ipython-input-3-e4edbda604e8>\u001b[0m in \u001b[0;36m<module>\u001b[1;34m\u001b[0m\n\u001b[1;32m----> 1\u001b[1;33m \u001b[0mX_resampled\u001b[0m\u001b[1;33m,\u001b[0m \u001b[0my_resampled\u001b[0m \u001b[1;33m=\u001b[0m \u001b[0mSMOTE\u001b[0m\u001b[1;33m(\u001b[0m\u001b[1;33m)\u001b[0m\u001b[1;33m.\u001b[0m\u001b[0mfit_resample\u001b[0m\u001b[1;33m(\u001b[0m\u001b[0mX\u001b[0m\u001b[1;33m,\u001b[0m \u001b[0my\u001b[0m\u001b[1;33m)\u001b[0m\u001b[1;33m\u001b[0m\u001b[1;33m\u001b[0m\u001b[0m\n\u001b[0m\u001b[0;32m      2\u001b[0m \u001b[0mprint\u001b[0m\u001b[1;33m(\u001b[0m\u001b[0msorted\u001b[0m\u001b[1;33m(\u001b[0m\u001b[0mCounter\u001b[0m\u001b[1;33m(\u001b[0m\u001b[0my_resampled\u001b[0m\u001b[1;33m)\u001b[0m\u001b[1;33m.\u001b[0m\u001b[0mitems\u001b[0m\u001b[1;33m(\u001b[0m\u001b[1;33m)\u001b[0m\u001b[1;33m)\u001b[0m\u001b[1;33m)\u001b[0m\u001b[1;33m\u001b[0m\u001b[1;33m\u001b[0m\u001b[0m\n\u001b[0;32m      3\u001b[0m \u001b[1;33m\u001b[0m\u001b[0m\n\u001b[0;32m      4\u001b[0m \u001b[1;32mfrom\u001b[0m \u001b[0mxgboost\u001b[0m \u001b[1;32mimport\u001b[0m \u001b[0mXGBClassifier\u001b[0m\u001b[1;33m\u001b[0m\u001b[1;33m\u001b[0m\u001b[0m\n\u001b[0;32m      5\u001b[0m \u001b[1;32mimport\u001b[0m \u001b[0mxgboost\u001b[0m \u001b[1;32mas\u001b[0m \u001b[0mxgb\u001b[0m\u001b[1;33m\u001b[0m\u001b[1;33m\u001b[0m\u001b[0m\n",
      "\u001b[1;31mNameError\u001b[0m: name 'SMOTE' is not defined"
     ]
    }
   ],
   "source": [
    "X_resampled, y_resampled = SMOTE().fit_resample(X, y)\n",
    "print(sorted(Counter(y_resampled).items()))\n",
    "\n",
    "from xgboost import XGBClassifier\n",
    "import xgboost as xgb\n",
    "# read in data\n",
    "clf4 = XGBClassifier()\n",
    "clf4.fit(X_train, y_train)\n",
    "y_pred = clf4.predict(X_test)\n",
    "print('accuracy:', accuracy_score(y_test,y_pred))\n",
    "\n",
    "cm = confusion_matrix(y_test,y_pred)\n",
    "print(cm)\n",
    "from sklearn.metrics import classification_report\n",
    "report=classification_report(y_test, y_pred) \n",
    "print(report)"
   ]
  },
  {
   "cell_type": "code",
   "execution_count": 148,
   "metadata": {},
   "outputs": [
    {
     "name": "stdout",
     "output_type": "stream",
     "text": [
      "accuracy: 0.7593123209169055\n",
      "[[245 104]\n",
      " [ 64 285]]\n",
      "              precision    recall  f1-score   support\n",
      "\n",
      "           0       0.79      0.70      0.74       349\n",
      "           1       0.73      0.82      0.77       349\n",
      "\n",
      "    accuracy                           0.76       698\n",
      "   macro avg       0.76      0.76      0.76       698\n",
      "weighted avg       0.76      0.76      0.76       698\n",
      "\n"
     ]
    }
   ],
   "source": [
    "from sklearn.discriminant_analysis import LinearDiscriminantAnalysis\n",
    "\n",
    "X_train, X_test, y_train, y_test = train_test_split(X_resampled, y_resampled, test_size=0.2, random_state=42)\n",
    "\n",
    "\n",
    "clf3 = GradientBoostingClassifier()\n",
    "clf3.fit(X_train, y_train)\n",
    "y_pred = clf3.predict(X_test)\n",
    "print('accuracy:',accuracy_score(y_test,y_pred))\n",
    "\n",
    "cm=confusion_matrix(y_test,y_pred)\n",
    "print(cm)\n",
    "from sklearn.metrics import classification_report\n",
    "report=classification_report(y_test, y_pred) \n",
    "print(report)"
   ]
  },
  {
   "cell_type": "markdown",
   "metadata": {},
   "source": [
    "# Random Forest"
   ]
  },
  {
   "cell_type": "code",
   "execution_count": 4,
   "metadata": {},
   "outputs": [
    {
     "name": "stdout",
     "output_type": "stream",
     "text": [
      "[(0, 1744), (1, 1744)]\n",
      "accuracy: 0.7865329512893983\n",
      "[[259  90]\n",
      " [ 59 290]]\n",
      "              precision    recall  f1-score   support\n",
      "\n",
      "           0       0.81      0.74      0.78       349\n",
      "           1       0.76      0.83      0.80       349\n",
      "\n",
      "    accuracy                           0.79       698\n",
      "   macro avg       0.79      0.79      0.79       698\n",
      "weighted avg       0.79      0.79      0.79       698\n",
      "\n"
     ]
    }
   ],
   "source": [
    "# with only word2vec embedding\n",
    "\n",
    "from sklearn.ensemble import RandomForestClassifier, AdaBoostClassifier, GradientBoostingClassifier\n",
    "from sklearn.model_selection import train_test_split\n",
    "from sklearn.metrics import precision_score, recall_score,accuracy_score\n",
    "from sklearn.base import clone\n",
    "from sklearn.metrics import confusion_matrix\n",
    "from imblearn.over_sampling import SMOTE, ADASYN\n",
    "from collections import Counter\n",
    "\n",
    "X_resampled, y_resampled = SMOTE().fit_resample(X, y)\n",
    "print(sorted(Counter(y_resampled).items()))\n",
    "\n",
    "X_train, X_test, y_train, y_test = train_test_split(X_resampled, y_resampled, test_size=0.2, random_state=42)\n",
    "\n",
    "\n",
    "clf = RandomForestClassifier()\n",
    "clf.fit(X_train, y_train)\n",
    "y_pred = clf.predict(X_test)\n",
    "print('accuracy:',accuracy_score(y_test,y_pred))\n",
    "\n",
    "cm=confusion_matrix(y_test,y_pred)\n",
    "print(cm)\n",
    "from sklearn.metrics import classification_report\n",
    "report=classification_report(y_test, y_pred) \n",
    "print(report)"
   ]
  },
  {
   "cell_type": "code",
   "execution_count": 5,
   "metadata": {},
   "outputs": [
    {
     "name": "stdout",
     "output_type": "stream",
     "text": [
      "{'n_estimators': [5, 15, 26, 36, 47, 57, 68, 78, 89, 100], 'max_features': ['auto', 'sqrt', 'log2'], 'max_depth': [1, 2, 3, None], 'min_samples_split': [1, 2, 5], 'min_samples_leaf': [1, 2, 4], 'bootstrap': [True, False]}\n"
     ]
    }
   ],
   "source": [
    "from sklearn.model_selection import RandomizedSearchCV\n",
    "n_estimators = [int(x) for x in np.linspace(start = 5, stop = 100, num = 10)] # of trees in the forest\n",
    "max_features = ['auto', 'sqrt','log2'] #number of features to consider when looking for the best split\n",
    "max_depth = [1,2,3]  # maximum depth of the tree\n",
    "max_depth.append(None)\n",
    "min_samples_split = [1, 2, 5] # min number of samples required to split an internal node\n",
    "min_samples_leaf = [1, 2, 4] #min number of samples in a leaf node\n",
    "bootstrap = [True, False]\n",
    "random_grid = {'n_estimators': n_estimators,\n",
    "               'max_features': max_features,\n",
    "               'max_depth': max_depth,\n",
    "               'min_samples_split': min_samples_split,\n",
    "               'min_samples_leaf': min_samples_leaf,\n",
    "               'bootstrap': bootstrap}\n",
    "print(random_grid)"
   ]
  },
  {
   "cell_type": "code",
   "execution_count": 6,
   "metadata": {},
   "outputs": [
    {
     "name": "stdout",
     "output_type": "stream",
     "text": [
      "Fitting 3 folds for each of 200 candidates, totalling 600 fits\n"
     ]
    },
    {
     "name": "stderr",
     "output_type": "stream",
     "text": [
      "[Parallel(n_jobs=-1)]: Using backend LokyBackend with 8 concurrent workers.\n",
      "[Parallel(n_jobs=-1)]: Done  25 tasks      | elapsed:    4.0s\n",
      "[Parallel(n_jobs=-1)]: Done 146 tasks      | elapsed:   11.8s\n",
      "[Parallel(n_jobs=-1)]: Done 349 tasks      | elapsed:   21.8s\n",
      "[Parallel(n_jobs=-1)]: Done 600 out of 600 | elapsed:   36.8s finished\n"
     ]
    },
    {
     "data": {
      "text/plain": [
       "RandomizedSearchCV(cv=3, estimator=RandomForestClassifier(), n_iter=200,\n",
       "                   n_jobs=-1,\n",
       "                   param_distributions={'bootstrap': [True, False],\n",
       "                                        'max_depth': [1, 2, 3, None],\n",
       "                                        'max_features': ['auto', 'sqrt',\n",
       "                                                         'log2'],\n",
       "                                        'min_samples_leaf': [1, 2, 4],\n",
       "                                        'min_samples_split': [1, 2, 5],\n",
       "                                        'n_estimators': [5, 15, 26, 36, 47, 57,\n",
       "                                                         68, 78, 89, 100]},\n",
       "                   random_state=42, scoring='accuracy', verbose=2)"
      ]
     },
     "execution_count": 6,
     "metadata": {},
     "output_type": "execute_result"
    }
   ],
   "source": [
    "from sklearn.model_selection import StratifiedShuffleSplit\n",
    "from sklearn.metrics import precision_score, recall_score,accuracy_score\n",
    "from sklearn.base import clone\n",
    "from sklearn.metrics import confusion_matrix\n",
    "from sklearn.metrics import f1_score\n",
    "from sklearn.model_selection import cross_val_score\n",
    "import numpy as np\n",
    "\n",
    "X_train, X_test, y_train, y_test = train_test_split(X_resampled, y_resampled, test_size=0.2, random_state=42)\n",
    "\n",
    "rf = RandomForestClassifier()\n",
    "rf_random = RandomizedSearchCV(estimator = rf, param_distributions = random_grid, n_iter = 200, cv = 3, scoring='accuracy', random_state=42, verbose=2, n_jobs = -1)\n",
    "rf_random.fit(X_train, y_train)"
   ]
  },
  {
   "cell_type": "code",
   "execution_count": 7,
   "metadata": {},
   "outputs": [
    {
     "name": "stdout",
     "output_type": "stream",
     "text": [
      "{'n_estimators': 100, 'min_samples_split': 5, 'min_samples_leaf': 1, 'max_features': 'sqrt', 'max_depth': None, 'bootstrap': True}\n"
     ]
    }
   ],
   "source": [
    "print(rf_random.best_params_)"
   ]
  },
  {
   "cell_type": "code",
   "execution_count": 8,
   "metadata": {},
   "outputs": [
    {
     "name": "stdout",
     "output_type": "stream",
     "text": [
      "accuracy: 0.7808022922636103\n",
      "f1: 0.7929634641407308\n",
      "precision: 0.7512820512820513\n",
      "recall: 0.839541547277937\n",
      "[[252  97]\n",
      " [ 56 293]]\n",
      "Cross-validated accuracy:  0.778414517669532\n",
      "Cross-validated f1:  0.7835171636051577\n",
      "Cross-validated precision:  0.7662933425370636\n",
      "Cross-validated recall:  0.8035139573070608\n"
     ]
    },
    {
     "ename": "NameError",
     "evalue": "name 'plot_confusion_matrix' is not defined",
     "output_type": "error",
     "traceback": [
      "\u001b[1;31m---------------------------------------------------------------------------\u001b[0m",
      "\u001b[1;31mNameError\u001b[0m                                 Traceback (most recent call last)",
      "\u001b[1;32m<ipython-input-8-4b91e8201f06>\u001b[0m in \u001b[0;36m<module>\u001b[1;34m\u001b[0m\n\u001b[0;32m     36\u001b[0m \u001b[1;33m\u001b[0m\u001b[0m\n\u001b[0;32m     37\u001b[0m \u001b[1;33m\u001b[0m\u001b[0m\n\u001b[1;32m---> 38\u001b[1;33m \u001b[0mplot_confusion_matrix\u001b[0m\u001b[1;33m(\u001b[0m\u001b[0mbest_random\u001b[0m\u001b[1;33m,\u001b[0m \u001b[0mX_testing\u001b[0m\u001b[1;33m,\u001b[0m \u001b[0my_testing\u001b[0m\u001b[1;33m)\u001b[0m\u001b[1;33m\u001b[0m\u001b[1;33m\u001b[0m\u001b[0m\n\u001b[0m\u001b[0;32m     39\u001b[0m \u001b[0mplt\u001b[0m\u001b[1;33m.\u001b[0m\u001b[0mshow\u001b[0m\u001b[1;33m(\u001b[0m\u001b[1;33m)\u001b[0m\u001b[1;33m\u001b[0m\u001b[1;33m\u001b[0m\u001b[0m\n",
      "\u001b[1;31mNameError\u001b[0m: name 'plot_confusion_matrix' is not defined"
     ]
    }
   ],
   "source": [
    "from statistics import mean\n",
    "\n",
    "X_training, X_testing, y_training, y_testing = train_test_split(X_resampled, y_resampled, test_size=0.2, random_state=42)\n",
    "\n",
    "best_random = rf_random.best_estimator_\n",
    "best_random.fit(X_training, y_training)\n",
    "best_random_prediction = best_random.predict(X_testing)\n",
    "print('accuracy:',accuracy_score(y_testing,best_random_prediction))\n",
    "print('f1:',f1_score(y_testing,best_random_prediction))\n",
    "print('precision:',precision_score(y_testing,best_random_prediction))\n",
    "print('recall:',recall_score(y_testing,best_random_prediction))\n",
    "\n",
    "cm=confusion_matrix(y_testing,best_random_prediction)\n",
    "print(cm)\n",
    "\n",
    "\n",
    "accuracies = []\n",
    "f1 = []\n",
    "precisions = []\n",
    "recalls = []\n",
    "\n",
    "skfolds = StratifiedShuffleSplit(n_splits=3)\n",
    "for train_index, test_index in skfolds.split(X_resampled, y_resampled):\n",
    "    best_random_valid = clone(best_random)\n",
    "    best_random_valid.fit(X_resampled.iloc[train_index], y_resampled.iloc[train_index])\n",
    "    y_pred = best_random_valid.predict(X_resampled.iloc[test_index])\n",
    "    accuracies.append(accuracy_score(y_resampled.iloc[test_index],y_pred))\n",
    "    f1.append(f1_score(y_resampled.iloc[test_index],y_pred))\n",
    "    precisions.append(precision_score(y_resampled.iloc[test_index],y_pred))\n",
    "    recalls.append(recall_score(y_resampled.iloc[test_index],y_pred))\n",
    "    \n",
    "print('Cross-validated accuracy: ', mean(accuracies))\n",
    "print('Cross-validated f1: ', mean(f1))\n",
    "print('Cross-validated precision: ', mean(precisions))\n",
    "print('Cross-validated recall: ', mean(recalls))\n",
    "\n",
    "\n",
    "# plot_confusion_matrix(best_random, X_testing, y_testing)\n",
    "# plt.show()"
   ]
  },
  {
   "cell_type": "code",
   "execution_count": 23,
   "metadata": {},
   "outputs": [
    {
     "name": "stdout",
     "output_type": "stream",
     "text": [
      "0.5427621417351152\n"
     ]
    },
    {
     "ename": "TypeError",
     "evalue": "'numpy.float64' object is not iterable",
     "output_type": "error",
     "traceback": [
      "\u001b[1;31m---------------------------------------------------------------------------\u001b[0m",
      "\u001b[1;31mTypeError\u001b[0m                                 Traceback (most recent call last)",
      "\u001b[1;32m<ipython-input-23-20450139cec5>\u001b[0m in \u001b[0;36m<module>\u001b[1;34m\u001b[0m\n\u001b[0;32m      2\u001b[0m \u001b[1;33m\u001b[0m\u001b[0m\n\u001b[0;32m      3\u001b[0m \u001b[0mprint\u001b[0m\u001b[1;33m(\u001b[0m\u001b[0msum\u001b[0m\u001b[1;33m(\u001b[0m\u001b[0mimportances\u001b[0m\u001b[1;33m[\u001b[0m\u001b[1;33m:\u001b[0m\u001b[1;36m100\u001b[0m\u001b[1;33m]\u001b[0m\u001b[1;33m)\u001b[0m\u001b[1;33m)\u001b[0m\u001b[1;33m\u001b[0m\u001b[1;33m\u001b[0m\u001b[0m\n\u001b[1;32m----> 4\u001b[1;33m \u001b[0mprint\u001b[0m\u001b[1;33m(\u001b[0m\u001b[0msum\u001b[0m\u001b[1;33m(\u001b[0m\u001b[0mimportances\u001b[0m\u001b[1;33m[\u001b[0m\u001b[1;36m100\u001b[0m\u001b[1;33m]\u001b[0m\u001b[1;33m)\u001b[0m\u001b[1;33m)\u001b[0m\u001b[1;33m\u001b[0m\u001b[1;33m\u001b[0m\u001b[0m\n\u001b[0m\u001b[0;32m      5\u001b[0m \u001b[1;33m\u001b[0m\u001b[0m\n\u001b[0;32m      6\u001b[0m \u001b[1;31m# List of tuples with variable and importance\u001b[0m\u001b[1;33m\u001b[0m\u001b[1;33m\u001b[0m\u001b[1;33m\u001b[0m\u001b[0m\n",
      "\u001b[1;31mTypeError\u001b[0m: 'numpy.float64' object is not iterable"
     ]
    }
   ],
   "source": [
    "importances = list(best_random.feature_importances_)\n",
    "\n",
    "print(sum(importances[:100]))\n",
    "print(sum(importances[100]))\n",
    "\n",
    "# List of tuples with variable and importance\n",
    "feature_importances = [(feature, round(importance, 2)) for feature, importance in zip(names, importances)]\n",
    "\n",
    "# Sort the feature importances by most important first\n",
    "feature_importances = sorted(feature_importances, key = lambda x: x[1], reverse = True)\n",
    "\n",
    "# Print out the feature and importances \n",
    "[print('Variable: {:20} Importance: {}'.format(*pair)) for pair in feature_importances];"
   ]
  },
  {
   "cell_type": "markdown",
   "metadata": {},
   "source": [
    "## current best results:\n",
    "\n",
    "accuracy: 0.79\n",
    "\n",
    "f1: 0.80\n",
    "\n",
    "precision: 0.76\n",
    "\n",
    "recall: 0.84"
   ]
  },
  {
   "cell_type": "markdown",
   "metadata": {},
   "source": [
    "# Simple Neural Network"
   ]
  },
  {
   "cell_type": "code",
   "execution_count": 197,
   "metadata": {},
   "outputs": [
    {
     "ename": "ValueError",
     "evalue": "Found input variables with inconsistent numbers of samples: [3139, 2790]",
     "output_type": "error",
     "traceback": [
      "\u001b[1;31m---------------------------------------------------------------------------\u001b[0m",
      "\u001b[1;31mValueError\u001b[0m                                Traceback (most recent call last)",
      "\u001b[1;32m<ipython-input-197-21d11653b4f0>\u001b[0m in \u001b[0;36m<module>\u001b[1;34m\u001b[0m\n\u001b[0;32m      8\u001b[0m \u001b[0mX_testing2\u001b[0m \u001b[1;33m=\u001b[0m \u001b[0mscaler\u001b[0m\u001b[1;33m.\u001b[0m\u001b[0mtransform\u001b[0m\u001b[1;33m(\u001b[0m\u001b[0mX_testing\u001b[0m\u001b[1;33m)\u001b[0m  \u001b[1;31m# doctest: +SKIP\u001b[0m\u001b[1;33m\u001b[0m\u001b[1;33m\u001b[0m\u001b[0m\n\u001b[0;32m      9\u001b[0m \u001b[0mclf2\u001b[0m \u001b[1;33m=\u001b[0m \u001b[0mMLPClassifier\u001b[0m\u001b[1;33m(\u001b[0m\u001b[0msolver\u001b[0m\u001b[1;33m=\u001b[0m\u001b[1;34m'adam'\u001b[0m\u001b[1;33m,\u001b[0m \u001b[0mearly_stopping\u001b[0m\u001b[1;33m=\u001b[0m\u001b[1;32mTrue\u001b[0m\u001b[1;33m,\u001b[0m \u001b[0mmax_iter\u001b[0m\u001b[1;33m=\u001b[0m\u001b[1;36m100\u001b[0m\u001b[1;33m,\u001b[0m \u001b[0malpha\u001b[0m\u001b[1;33m=\u001b[0m\u001b[1;36m1e-6\u001b[0m\u001b[1;33m,\u001b[0m \u001b[0mhidden_layer_sizes\u001b[0m\u001b[1;33m=\u001b[0m\u001b[1;33m(\u001b[0m\u001b[1;36m100\u001b[0m\u001b[1;33m,\u001b[0m \u001b[1;36m50\u001b[0m\u001b[1;33m,\u001b[0m \u001b[1;36m20\u001b[0m\u001b[1;33m)\u001b[0m\u001b[1;33m,\u001b[0m \u001b[0mrandom_state\u001b[0m\u001b[1;33m=\u001b[0m\u001b[1;36m1\u001b[0m\u001b[1;33m)\u001b[0m\u001b[1;33m\u001b[0m\u001b[1;33m\u001b[0m\u001b[0m\n\u001b[1;32m---> 10\u001b[1;33m \u001b[0mclf2\u001b[0m\u001b[1;33m.\u001b[0m\u001b[0mfit\u001b[0m\u001b[1;33m(\u001b[0m\u001b[0mX_training2\u001b[0m\u001b[1;33m,\u001b[0m \u001b[0my_training\u001b[0m\u001b[1;33m)\u001b[0m\u001b[1;33m\u001b[0m\u001b[1;33m\u001b[0m\u001b[0m\n\u001b[0m\u001b[0;32m     11\u001b[0m \u001b[0mneural_pred\u001b[0m \u001b[1;33m=\u001b[0m \u001b[0mclf2\u001b[0m\u001b[1;33m.\u001b[0m\u001b[0mpredict\u001b[0m\u001b[1;33m(\u001b[0m\u001b[0mX_testing2\u001b[0m\u001b[1;33m)\u001b[0m\u001b[1;33m\u001b[0m\u001b[1;33m\u001b[0m\u001b[0m\n\u001b[0;32m     12\u001b[0m \u001b[0mprint\u001b[0m\u001b[1;33m(\u001b[0m\u001b[1;34m'accuracy:'\u001b[0m\u001b[1;33m,\u001b[0m\u001b[0maccuracy_score\u001b[0m\u001b[1;33m(\u001b[0m\u001b[0my_testing\u001b[0m\u001b[1;33m,\u001b[0m \u001b[0mneural_pred\u001b[0m\u001b[1;33m)\u001b[0m\u001b[1;33m)\u001b[0m\u001b[1;33m\u001b[0m\u001b[1;33m\u001b[0m\u001b[0m\n",
      "\u001b[1;32mc:\\program files\\python38\\lib\\site-packages\\sklearn\\neural_network\\_multilayer_perceptron.py\u001b[0m in \u001b[0;36mfit\u001b[1;34m(self, X, y)\u001b[0m\n\u001b[0;32m   1025\u001b[0m         \u001b[0mself\u001b[0m \u001b[1;33m:\u001b[0m \u001b[0mreturns\u001b[0m \u001b[0ma\u001b[0m \u001b[0mtrained\u001b[0m \u001b[0mMLP\u001b[0m \u001b[0mmodel\u001b[0m\u001b[1;33m.\u001b[0m\u001b[1;33m\u001b[0m\u001b[1;33m\u001b[0m\u001b[0m\n\u001b[0;32m   1026\u001b[0m         \"\"\"\n\u001b[1;32m-> 1027\u001b[1;33m         return self._fit(X, y, incremental=(self.warm_start and\n\u001b[0m\u001b[0;32m   1028\u001b[0m                                             hasattr(self, \"classes_\")))\n\u001b[0;32m   1029\u001b[0m \u001b[1;33m\u001b[0m\u001b[0m\n",
      "\u001b[1;32mc:\\program files\\python38\\lib\\site-packages\\sklearn\\neural_network\\_multilayer_perceptron.py\u001b[0m in \u001b[0;36m_fit\u001b[1;34m(self, X, y, incremental)\u001b[0m\n\u001b[0;32m    324\u001b[0m                              hidden_layer_sizes)\n\u001b[0;32m    325\u001b[0m \u001b[1;33m\u001b[0m\u001b[0m\n\u001b[1;32m--> 326\u001b[1;33m         \u001b[0mX\u001b[0m\u001b[1;33m,\u001b[0m \u001b[0my\u001b[0m \u001b[1;33m=\u001b[0m \u001b[0mself\u001b[0m\u001b[1;33m.\u001b[0m\u001b[0m_validate_input\u001b[0m\u001b[1;33m(\u001b[0m\u001b[0mX\u001b[0m\u001b[1;33m,\u001b[0m \u001b[0my\u001b[0m\u001b[1;33m,\u001b[0m \u001b[0mincremental\u001b[0m\u001b[1;33m)\u001b[0m\u001b[1;33m\u001b[0m\u001b[1;33m\u001b[0m\u001b[0m\n\u001b[0m\u001b[0;32m    327\u001b[0m         \u001b[0mn_samples\u001b[0m\u001b[1;33m,\u001b[0m \u001b[0mn_features\u001b[0m \u001b[1;33m=\u001b[0m \u001b[0mX\u001b[0m\u001b[1;33m.\u001b[0m\u001b[0mshape\u001b[0m\u001b[1;33m\u001b[0m\u001b[1;33m\u001b[0m\u001b[0m\n\u001b[0;32m    328\u001b[0m \u001b[1;33m\u001b[0m\u001b[0m\n",
      "\u001b[1;32mc:\\program files\\python38\\lib\\site-packages\\sklearn\\neural_network\\_multilayer_perceptron.py\u001b[0m in \u001b[0;36m_validate_input\u001b[1;34m(self, X, y, incremental)\u001b[0m\n\u001b[0;32m    962\u001b[0m \u001b[1;33m\u001b[0m\u001b[0m\n\u001b[0;32m    963\u001b[0m     \u001b[1;32mdef\u001b[0m \u001b[0m_validate_input\u001b[0m\u001b[1;33m(\u001b[0m\u001b[0mself\u001b[0m\u001b[1;33m,\u001b[0m \u001b[0mX\u001b[0m\u001b[1;33m,\u001b[0m \u001b[0my\u001b[0m\u001b[1;33m,\u001b[0m \u001b[0mincremental\u001b[0m\u001b[1;33m)\u001b[0m\u001b[1;33m:\u001b[0m\u001b[1;33m\u001b[0m\u001b[1;33m\u001b[0m\u001b[0m\n\u001b[1;32m--> 964\u001b[1;33m         X, y = self._validate_data(X, y, accept_sparse=['csr', 'csc'],\n\u001b[0m\u001b[0;32m    965\u001b[0m                                    multi_output=True)\n\u001b[0;32m    966\u001b[0m         \u001b[1;32mif\u001b[0m \u001b[0my\u001b[0m\u001b[1;33m.\u001b[0m\u001b[0mndim\u001b[0m \u001b[1;33m==\u001b[0m \u001b[1;36m2\u001b[0m \u001b[1;32mand\u001b[0m \u001b[0my\u001b[0m\u001b[1;33m.\u001b[0m\u001b[0mshape\u001b[0m\u001b[1;33m[\u001b[0m\u001b[1;36m1\u001b[0m\u001b[1;33m]\u001b[0m \u001b[1;33m==\u001b[0m \u001b[1;36m1\u001b[0m\u001b[1;33m:\u001b[0m\u001b[1;33m\u001b[0m\u001b[1;33m\u001b[0m\u001b[0m\n",
      "\u001b[1;32mc:\\program files\\python38\\lib\\site-packages\\sklearn\\base.py\u001b[0m in \u001b[0;36m_validate_data\u001b[1;34m(self, X, y, reset, validate_separately, **check_params)\u001b[0m\n\u001b[0;32m    430\u001b[0m                 \u001b[0my\u001b[0m \u001b[1;33m=\u001b[0m \u001b[0mcheck_array\u001b[0m\u001b[1;33m(\u001b[0m\u001b[0my\u001b[0m\u001b[1;33m,\u001b[0m \u001b[1;33m**\u001b[0m\u001b[0mcheck_y_params\u001b[0m\u001b[1;33m)\u001b[0m\u001b[1;33m\u001b[0m\u001b[1;33m\u001b[0m\u001b[0m\n\u001b[0;32m    431\u001b[0m             \u001b[1;32melse\u001b[0m\u001b[1;33m:\u001b[0m\u001b[1;33m\u001b[0m\u001b[1;33m\u001b[0m\u001b[0m\n\u001b[1;32m--> 432\u001b[1;33m                 \u001b[0mX\u001b[0m\u001b[1;33m,\u001b[0m \u001b[0my\u001b[0m \u001b[1;33m=\u001b[0m \u001b[0mcheck_X_y\u001b[0m\u001b[1;33m(\u001b[0m\u001b[0mX\u001b[0m\u001b[1;33m,\u001b[0m \u001b[0my\u001b[0m\u001b[1;33m,\u001b[0m \u001b[1;33m**\u001b[0m\u001b[0mcheck_params\u001b[0m\u001b[1;33m)\u001b[0m\u001b[1;33m\u001b[0m\u001b[1;33m\u001b[0m\u001b[0m\n\u001b[0m\u001b[0;32m    433\u001b[0m             \u001b[0mout\u001b[0m \u001b[1;33m=\u001b[0m \u001b[0mX\u001b[0m\u001b[1;33m,\u001b[0m \u001b[0my\u001b[0m\u001b[1;33m\u001b[0m\u001b[1;33m\u001b[0m\u001b[0m\n\u001b[0;32m    434\u001b[0m \u001b[1;33m\u001b[0m\u001b[0m\n",
      "\u001b[1;32mc:\\program files\\python38\\lib\\site-packages\\sklearn\\utils\\validation.py\u001b[0m in \u001b[0;36minner_f\u001b[1;34m(*args, **kwargs)\u001b[0m\n\u001b[0;32m     71\u001b[0m                           FutureWarning)\n\u001b[0;32m     72\u001b[0m         \u001b[0mkwargs\u001b[0m\u001b[1;33m.\u001b[0m\u001b[0mupdate\u001b[0m\u001b[1;33m(\u001b[0m\u001b[1;33m{\u001b[0m\u001b[0mk\u001b[0m\u001b[1;33m:\u001b[0m \u001b[0marg\u001b[0m \u001b[1;32mfor\u001b[0m \u001b[0mk\u001b[0m\u001b[1;33m,\u001b[0m \u001b[0marg\u001b[0m \u001b[1;32min\u001b[0m \u001b[0mzip\u001b[0m\u001b[1;33m(\u001b[0m\u001b[0msig\u001b[0m\u001b[1;33m.\u001b[0m\u001b[0mparameters\u001b[0m\u001b[1;33m,\u001b[0m \u001b[0margs\u001b[0m\u001b[1;33m)\u001b[0m\u001b[1;33m}\u001b[0m\u001b[1;33m)\u001b[0m\u001b[1;33m\u001b[0m\u001b[1;33m\u001b[0m\u001b[0m\n\u001b[1;32m---> 73\u001b[1;33m         \u001b[1;32mreturn\u001b[0m \u001b[0mf\u001b[0m\u001b[1;33m(\u001b[0m\u001b[1;33m**\u001b[0m\u001b[0mkwargs\u001b[0m\u001b[1;33m)\u001b[0m\u001b[1;33m\u001b[0m\u001b[1;33m\u001b[0m\u001b[0m\n\u001b[0m\u001b[0;32m     74\u001b[0m     \u001b[1;32mreturn\u001b[0m \u001b[0minner_f\u001b[0m\u001b[1;33m\u001b[0m\u001b[1;33m\u001b[0m\u001b[0m\n\u001b[0;32m     75\u001b[0m \u001b[1;33m\u001b[0m\u001b[0m\n",
      "\u001b[1;32mc:\\program files\\python38\\lib\\site-packages\\sklearn\\utils\\validation.py\u001b[0m in \u001b[0;36mcheck_X_y\u001b[1;34m(X, y, accept_sparse, accept_large_sparse, dtype, order, copy, force_all_finite, ensure_2d, allow_nd, multi_output, ensure_min_samples, ensure_min_features, y_numeric, estimator)\u001b[0m\n\u001b[0;32m    811\u001b[0m         \u001b[0my\u001b[0m \u001b[1;33m=\u001b[0m \u001b[0my\u001b[0m\u001b[1;33m.\u001b[0m\u001b[0mastype\u001b[0m\u001b[1;33m(\u001b[0m\u001b[0mnp\u001b[0m\u001b[1;33m.\u001b[0m\u001b[0mfloat64\u001b[0m\u001b[1;33m)\u001b[0m\u001b[1;33m\u001b[0m\u001b[1;33m\u001b[0m\u001b[0m\n\u001b[0;32m    812\u001b[0m \u001b[1;33m\u001b[0m\u001b[0m\n\u001b[1;32m--> 813\u001b[1;33m     \u001b[0mcheck_consistent_length\u001b[0m\u001b[1;33m(\u001b[0m\u001b[0mX\u001b[0m\u001b[1;33m,\u001b[0m \u001b[0my\u001b[0m\u001b[1;33m)\u001b[0m\u001b[1;33m\u001b[0m\u001b[1;33m\u001b[0m\u001b[0m\n\u001b[0m\u001b[0;32m    814\u001b[0m \u001b[1;33m\u001b[0m\u001b[0m\n\u001b[0;32m    815\u001b[0m     \u001b[1;32mreturn\u001b[0m \u001b[0mX\u001b[0m\u001b[1;33m,\u001b[0m \u001b[0my\u001b[0m\u001b[1;33m\u001b[0m\u001b[1;33m\u001b[0m\u001b[0m\n",
      "\u001b[1;32mc:\\program files\\python38\\lib\\site-packages\\sklearn\\utils\\validation.py\u001b[0m in \u001b[0;36mcheck_consistent_length\u001b[1;34m(*arrays)\u001b[0m\n\u001b[0;32m    254\u001b[0m     \u001b[0muniques\u001b[0m \u001b[1;33m=\u001b[0m \u001b[0mnp\u001b[0m\u001b[1;33m.\u001b[0m\u001b[0munique\u001b[0m\u001b[1;33m(\u001b[0m\u001b[0mlengths\u001b[0m\u001b[1;33m)\u001b[0m\u001b[1;33m\u001b[0m\u001b[1;33m\u001b[0m\u001b[0m\n\u001b[0;32m    255\u001b[0m     \u001b[1;32mif\u001b[0m \u001b[0mlen\u001b[0m\u001b[1;33m(\u001b[0m\u001b[0muniques\u001b[0m\u001b[1;33m)\u001b[0m \u001b[1;33m>\u001b[0m \u001b[1;36m1\u001b[0m\u001b[1;33m:\u001b[0m\u001b[1;33m\u001b[0m\u001b[1;33m\u001b[0m\u001b[0m\n\u001b[1;32m--> 256\u001b[1;33m         raise ValueError(\"Found input variables with inconsistent numbers of\"\n\u001b[0m\u001b[0;32m    257\u001b[0m                          \" samples: %r\" % [int(l) for l in lengths])\n\u001b[0;32m    258\u001b[0m \u001b[1;33m\u001b[0m\u001b[0m\n",
      "\u001b[1;31mValueError\u001b[0m: Found input variables with inconsistent numbers of samples: [3139, 2790]"
     ]
    }
   ],
   "source": [
    "from sklearn.neural_network import MLPClassifier\n",
    "from sklearn.preprocessing import StandardScaler\n",
    "scaler = StandardScaler()\n",
    "\n",
    "scaler.fit(X_training)\n",
    "X_training2 = scaler.transform(X_training)  # doctest: +SKIP\n",
    "# apply same transformation to test data\n",
    "X_testing2 = scaler.transform(X_testing)  # doctest: +SKIP\n",
    "clf2 = MLPClassifier(solver='adam', early_stopping=True, max_iter=100, alpha=1e-6, hidden_layer_sizes=(100, 50, 20), random_state=1)\n",
    "clf2.fit(X_training2, y_training)\n",
    "neural_pred = clf2.predict(X_testing2)\n",
    "print('accuracy:',accuracy_score(y_testing, neural_pred))\n",
    "print('f1:',f1_score(y_testing, neural_pred))\n",
    "print('precision:',precision_score(y_testing, neural_pred))\n",
    "print('recall:',recall_score(y_testing, neural_pred))\n",
    "\n",
    "accuracies = []\n",
    "f1 = []\n",
    "precisions = []\n",
    "recalls = []\n",
    "\n",
    "\n",
    "skfolds = StratifiedShuffleSplit(n_splits=3)\n",
    "for train_index, test_index in skfolds.split(X_resampled, y_resampled):\n",
    "    clf2_valid = clone(clf2)\n",
    "    scaler_valid = clone(scaler)\n",
    "    scaler_valid.fit(X_resampled.iloc[train_index])\n",
    "    X_training = scaler_valid.transform(X_resampled.iloc[train_index])\n",
    "    X_testing = scaler_valid.transform(X_resampled.iloc[test_index])\n",
    "    clf2_valid.fit(X_training, y_resampled.iloc[train_index])\n",
    "    y_pred = clf2_valid.predict(X_testing)\n",
    "    accuracies.append(accuracy_score(y_resampled.iloc[test_index],y_pred))\n",
    "    f1.append(f1_score(y_resampled.iloc[test_index],y_pred))\n",
    "    precisions.append(precision_score(y_resampled.iloc[test_index],y_pred))\n",
    "    recalls.append(recall_score(y_resampled.iloc[test_index],y_pred))\n",
    "    \n",
    "print('Cross-validated accuracy: ', mean(accuracies))\n",
    "print('Cross-validated f1: ', mean(f1))\n",
    "print('Cross-validated precision: ', mean(precisions))\n",
    "print('Cross-validated recall: ', mean(recalls))\n",
    "\n",
    "cm = confusion_matrix(y_testing,neural_pred)\n",
    "print(cm)\n",
    "plot_confusion_matrix(clf2, X_testing2, y_testing)\n",
    "plt.show()"
   ]
  },
  {
   "cell_type": "code",
   "execution_count": 274,
   "metadata": {},
   "outputs": [],
   "source": [
    "import pickle\n",
    "pickle.dump(best_random, open('optimized_random_for.sav', 'wb'))\n",
    "pickle.dump(clf, open('classifier_random_for.sav', 'wb'))"
   ]
  },
  {
   "cell_type": "markdown",
   "metadata": {},
   "source": [
    "# Ensemble Learning"
   ]
  },
  {
   "cell_type": "code",
   "execution_count": 206,
   "metadata": {},
   "outputs": [
    {
     "name": "stdout",
     "output_type": "stream",
     "text": [
      "accuracy: 0.7922636103151862\n",
      "f1: 0.8010973936899863\n",
      "precision: 0.7684210526315789\n",
      "recall: 0.836676217765043\n",
      "[[261  88]\n",
      " [ 57 292]]\n"
     ]
    },
    {
     "data": {
      "image/png": "[encoded data removed]",
      "text/plain": [
       "<Figure size 432x288 with 2 Axes>"
      ]
     },
     "metadata": {
      "needs_background": "light"
     },
     "output_type": "display_data"
    }
   ],
   "source": [
    "from sklearn.ensemble import VotingClassifier\n",
    "X_training, X_testing, y_training, y_testing = train_test_split(X_resampled, y_resampled, test_size=0.2, random_state=42)\n",
    "\n",
    "rnd_clf = clone(best_random)\n",
    "xgb_clf = XGBClassifier()\n",
    "lga_clf = LinearDiscriminantAnalysis()\n",
    "\n",
    "voting_clf = VotingClassifier(estimators=[('rf', rnd_clf), ('xgb', xgb_clf), ('lga', lga_clf)], voting='hard', n_jobs=-1)\n",
    "\n",
    "\n",
    "\n",
    "voting_clf.fit(X_training, y_training)\n",
    "voting_pred = voting_clf.predict(X_testing)\n",
    "\n",
    "print('accuracy:',accuracy_score(y_testing, voting_pred))\n",
    "print('f1:',f1_score(y_testing, voting_pred))\n",
    "print('precision:',precision_score(y_testing, voting_pred))\n",
    "print('recall:',recall_score(y_testing, voting_pred))\n",
    "cm = confusion_matrix(y_testing, voting_pred)\n",
    "print(cm)\n",
    "\n",
    "plot_confusion_matrix(voting_clf, X_testing, y_testing)\n",
    "plt.show()"
   ]
  },
  {
   "cell_type": "code",
   "execution_count": 208,
   "metadata": {},
   "outputs": [
    {
     "name": "stdout",
     "output_type": "stream",
     "text": [
      "{'rf__n_estimators': [5, 15, 26, 36, 47, 57, 68, 78, 89, 100], 'rf__max_features': ['auto', 'sqrt', 'log2'], 'rf__max_depth': [1, 2, 3, None], 'rf__min_samples_split': [1, 2, 5], 'rf__min_samples_leaf': [1, 2, 4], 'rf__bootstrap': [True, False], 'lga__solver': ['svd', 'lsqr', 'eigen'], 'xgb__booster': ['gbtree', 'gblinear', 'dart']}\n",
      "Fitting 3 folds for each of 200 candidates, totalling 600 fits\n"
     ]
    },
    {
     "name": "stderr",
     "output_type": "stream",
     "text": [
      "[Parallel(n_jobs=-1)]: Using backend LokyBackend with 8 concurrent workers.\n",
      "[Parallel(n_jobs=-1)]: Done  34 tasks      | elapsed:    5.5s\n",
      "[Parallel(n_jobs=-1)]: Done 162 tasks      | elapsed:   30.6s\n",
      "[Parallel(n_jobs=-1)]: Done 365 tasks      | elapsed:  1.6min\n",
      "[Parallel(n_jobs=-1)]: Done 600 out of 600 | elapsed:  3.2min finished\n"
     ]
    },
    {
     "data": {
      "text/plain": [
       "RandomizedSearchCV(cv=3,\n",
       "                   estimator=VotingClassifier(estimators=[('rf',\n",
       "                                                           RandomForestClassifier(max_features='sqrt',\n",
       "                                                                                  min_samples_split=5)),\n",
       "                                                          ('xgb',\n",
       "                                                           XGBClassifier(base_score=None,\n",
       "                                                                         booster=None,\n",
       "                                                                         colsample_bylevel=None,\n",
       "                                                                         colsample_bynode=None,\n",
       "                                                                         colsample_bytree=None,\n",
       "                                                                         gamma=None,\n",
       "                                                                         gpu_id=None,\n",
       "                                                                         importance_type='gain',\n",
       "                                                                         interaction_constraints=None,\n",
       "                                                                         learning_rate=None,\n",
       "                                                                         max_d...\n",
       "                   param_distributions={'lga__solver': ['svd', 'lsqr', 'eigen'],\n",
       "                                        'rf__bootstrap': [True, False],\n",
       "                                        'rf__max_depth': [1, 2, 3, None],\n",
       "                                        'rf__max_features': ['auto', 'sqrt',\n",
       "                                                             'log2'],\n",
       "                                        'rf__min_samples_leaf': [1, 2, 4],\n",
       "                                        'rf__min_samples_split': [1, 2, 5],\n",
       "                                        'rf__n_estimators': [5, 15, 26, 36, 47,\n",
       "                                                             57, 68, 78, 89,\n",
       "                                                             100],\n",
       "                                        'xgb__booster': ['gbtree', 'gblinear',\n",
       "                                                         'dart']},\n",
       "                   random_state=42, scoring='f1', verbose=2)"
      ]
     },
     "execution_count": 208,
     "metadata": {},
     "output_type": "execute_result"
    }
   ],
   "source": [
    "n_estimators = [int(x) for x in np.linspace(start = 5, stop = 100, num = 10)] # of trees in the forest\n",
    "max_features = ['auto', 'sqrt','log2'] #number of features to consider when looking for the best split\n",
    "max_depth = [1,2,3]  # maximum depth of the tree\n",
    "max_depth.append(None)\n",
    "min_samples_split = [1, 2, 5] # min number of samples required to split an internal node\n",
    "min_samples_leaf = [1, 2, 4] #min number of samples in a leaf node\n",
    "bootstrap = [True, False]\n",
    "booster = ['gbtree', 'gblinear', 'dart']\n",
    "solver = ['svd', 'lsqr', 'eigen']\n",
    "random_grid = {'rf__n_estimators': n_estimators,\n",
    "               'rf__max_features': max_features,\n",
    "               'rf__max_depth': max_depth,\n",
    "               'rf__min_samples_split': min_samples_split,\n",
    "               'rf__min_samples_leaf': min_samples_leaf,\n",
    "               'rf__bootstrap': bootstrap,\n",
    "               'lga__solver': solver,\n",
    "               'xgb__booster': booster}\n",
    "print(random_grid)\n",
    "\n",
    "\n",
    "voting_clf_opt = RandomizedSearchCV(estimator = voting_clf, param_distributions = random_grid, n_iter = 200, cv = 3, scoring='f1', random_state=42, verbose=2, n_jobs = -1)\n",
    "voting_clf_opt.fit(X_train, y_train)"
   ]
  },
  {
   "cell_type": "code",
   "execution_count": 209,
   "metadata": {},
   "outputs": [
    {
     "name": "stdout",
     "output_type": "stream",
     "text": [
      "{'xgb__booster': 'dart', 'rf__n_estimators': 5, 'rf__min_samples_split': 5, 'rf__min_samples_leaf': 1, 'rf__max_features': 'auto', 'rf__max_depth': None, 'rf__bootstrap': True, 'lga__solver': 'lsqr'}\n"
     ]
    }
   ],
   "source": [
    "print(voting_clf_opt.best_params_)"
   ]
  },
  {
   "cell_type": "code",
   "execution_count": 214,
   "metadata": {},
   "outputs": [
    {
     "name": "stdout",
     "output_type": "stream",
     "text": [
      "accuracy: 0.7836676217765043\n",
      "f1: 0.7945578231292517\n",
      "precision: 0.7564766839378239\n",
      "recall: 0.836676217765043\n",
      "[[255  94]\n",
      " [ 57 292]]\n",
      "Cross-validated accuracy:  0.8118433619866284\n",
      "Cross-validated f1:  0.8139527605247634\n",
      "Cross-validated precision:  0.8075999242455737\n",
      "Cross-validated recall:  0.820952380952381\n"
     ]
    },
    {
     "data": {
      "image/png": "[encoded data removed]",
      "text/plain": [
       "<Figure size 432x288 with 2 Axes>"
      ]
     },
     "metadata": {
      "needs_background": "light"
     },
     "output_type": "display_data"
    }
   ],
   "source": [
    "from sklearn.metrics import plot_confusion_matrix\n",
    "from statistics import mean\n",
    "import matplotlib.pyplot as plt\n",
    "\n",
    "\n",
    "X_training, X_testing, y_training, y_testing = train_test_split(X_resampled, y_resampled, test_size=0.2, random_state=42)\n",
    "\n",
    "best_voting = voting_clf_opt.best_estimator_\n",
    "best_voting.fit(X_training, y_training)\n",
    "best_voting_prediction = best_voting.predict(X_testing)\n",
    "print('accuracy:',accuracy_score(y_testing,best_random_prediction))\n",
    "print('f1:',f1_score(y_testing,best_random_prediction))\n",
    "print('precision:',precision_score(y_testing,best_random_prediction))\n",
    "print('recall:',recall_score(y_testing,best_random_prediction))\n",
    "\n",
    "cm=confusion_matrix(y_testing,best_random_prediction)\n",
    "print(cm)\n",
    "\n",
    "\n",
    "accuracies = []\n",
    "f1 = []\n",
    "precisions = []\n",
    "recalls = []\n",
    "\n",
    "skfolds = StratifiedShuffleSplit(n_splits=3)\n",
    "for train_index, test_index in skfolds.split(X_resampled, y_resampled):\n",
    "    best_voting_valid = clone(best_voting)\n",
    "    best_voting_valid.fit(X_resampled.iloc[train_index], y_resampled.iloc[train_index])\n",
    "    y_pred = best_voting_valid.predict(X_resampled.iloc[test_index])\n",
    "    accuracies.append(accuracy_score(y_resampled.iloc[test_index],y_pred))\n",
    "    f1.append(f1_score(y_resampled.iloc[test_index],y_pred))\n",
    "    precisions.append(precision_score(y_resampled.iloc[test_index],y_pred))\n",
    "    recalls.append(recall_score(y_resampled.iloc[test_index],y_pred))\n",
    "    \n",
    "print('Cross-validated accuracy: ', mean(accuracies))\n",
    "print('Cross-validated f1: ', mean(f1))\n",
    "print('Cross-validated precision: ', mean(precisions))\n",
    "print('Cross-validated recall: ', mean(recalls))\n",
    "\n",
    "\n",
    "plot_confusion_matrix(best_voting, X_testing, y_testing)\n",
    "plt.show()"
   ]
  },
  {
   "cell_type": "markdown",
   "metadata": {},
   "source": [
    "accuracy: 0.80\n",
    "\n",
    "f1: 0.81\n",
    "\n",
    "precision: 0.78\n",
    "\n",
    "recall: 0.84"
   ]
  },
  {
   "cell_type": "markdown",
   "metadata": {},
   "source": [
    "# BERT Retraining (using Flair)"
   ]
  },
  {
   "cell_type": "code",
   "execution_count": null,
   "metadata": {},
   "outputs": [],
   "source": [
    "import flair"
   ]
  }
 ],
 "metadata": {
  "kernelspec": {
   "display_name": "Python 3",
   "language": "python",
   "name": "python3"
  },
  "language_info": {
   "codemirror_mode": {
    "name": "ipython",
    "version": 3
   },
   "file_extension": ".py",
   "mimetype": "text/x-python",
   "name": "python",
   "nbconvert_exporter": "python",
   "pygments_lexer": "ipython3",
   "version": "3.8.3"
  }
 },
 "nbformat": 4,
 "nbformat_minor": 4
}
