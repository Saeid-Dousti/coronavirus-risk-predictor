{
 "cells": [
  {
   "cell_type": "code",
   "execution_count": 1,
   "metadata": {},
   "outputs": [],
   "source": [
    "from statistics import mean\n",
    "\n",
    "import pandas as pd\n",
    "from string import ascii_letters, digits\n",
    "\n",
    "import cython #ENSURE cython package is installed on computer/canopy\n",
    "from gensim.models import phrases \n",
    "from gensim import corpora, models, similarities #calc all similarities at once, from http://radimrehurek.com/gensim/tut3.html\n",
    "from scipy import spatial\n",
    "from gensim.models import Word2Vec, KeyedVectors\n",
    "from sklearn.manifold import TSNE\n",
    "from gensim.test.utils import datapath\n",
    "\n",
    "import os\n",
    "import csv\n",
    "import json\n",
    "from xml.etree import cElementTree as ET\n",
    "\n",
    "from nltk.translate.meteor_score import wordnetsyn_match\n",
    "from nltk.data import load\n",
    "import re\n",
    "# from flair.embeddings import FlairEmbeddings, StackedEmbeddings, FastTextEmbeddings, ELMoEmbeddings, BertEmbeddings\n",
    "# from flair.data import Sentence\n",
    "\n",
    "import numpy as np\n",
    "import random\n",
    "import matplotlib.pyplot as plt\n",
    "import jsonlines\n",
    "import datetime\n",
    "\n",
    "\n",
    "import nltk\n",
    "# nltk.download('punkt')\n",
    "\n",
    "#load up libraries (you may need to install some of these, with conda install or pip install, if not already installed)\n",
    "from gensim.models import Word2Vec, KeyedVectors\n",
    "from itertools import combinations\n",
    "from numpy import mean, std, equal\n",
    "from sklearn.metrics.pairwise import cosine_similarity\n",
    "from seaborn import stripplot\n",
    "import matplotlib.pyplot as plt\n",
    "from pylab import rcParams\n",
    "from pylab import xlim\n",
    "\n",
    "\n",
    "translator = str.maketrans(ascii_letters, ascii_letters, digits)\n",
    "tokenizer = load('tokenizers/punkt/english.pickle')"
   ]
  },
  {
   "cell_type": "code",
   "execution_count": 2,
   "metadata": {},
   "outputs": [],
   "source": [
    "def stripword(word):\n",
    "    word = word.replace(\"[\", \"\")\n",
    "    word = word.replace(\"]\", \"\")\n",
    "    word = word.replace(\"'\", \"\")\n",
    "    word = word.replace(\"'\", \"\")\n",
    "    word = word.replace(\",\", \"\")\n",
    "    word = word.replace(\".\", \"\")\n",
    "    word = word.replace(\"_\", \"\")\n",
    "    word = word.replace(\":\", \"\")\n",
    "    word = word.replace(\"-\", \"\")\n",
    "    word = word.replace(\"*\", \"\")\n",
    "    word = word.replace(\"/\", \"\")\n",
    "    word = word.replace(\"(\", \"\")\n",
    "    word = word.replace(\")\", \"\")\n",
    "    word = word.replace(\"´\", \"\")\n",
    "    word = word.replace(\"`\", \"\")\n",
    "    word = word.replace(\";\", \"\")\n",
    "    word = word.replace(\"__END\", \"\")\n",
    "    word = word.replace(\"BEG__\", \"\")\n",
    "    return word"
   ]
  },
  {
   "cell_type": "code",
   "execution_count": null,
   "metadata": {},
   "outputs": [],
   "source": [
    "def tokenize_folder():\n",
    "    sentences = []\n",
    "    for fname in os.listdir(os.path.join(os.getcwd(), 'cTakes archive')): #go through all file names in current directory\n",
    "        if 'txt' in fname:\n",
    "            with open(os.path.join(os.getcwd(), 'cTakes archive', fname)) as file:\n",
    "                for l in file:\n",
    "                    l = l.translate(translator)\n",
    "                    l = re.sub(apas_error, \"'\", l)\n",
    "                    l = l.strip()\n",
    "                    l = l.lower()\n",
    "                    l = stripword(l)\n",
    "                    if len(l.split()) > 7:\n",
    "                        l = l + ' .'\n",
    "                        sentences.append(l.split())\n",
    "    return sentences\n",
    "\n",
    "\n",
    "def tokenize_json():\n",
    "    sentences = []\n",
    "    with jsonlines.open(('/home/schaa/Insight_Project_Framework/data/raw/news_data/aylien-covid-news.jsonl') as json_f:\n",
    "        dataset = json.load(json_f)\n",
    "        for data in dataset:\n",
    "            for l in data['supports']:\n",
    "                l = l.translate(translator)\n",
    "                l = l.strip()\n",
    "                l = tokenizer.tokenize(l)\n",
    "                l = [stripword(n.lower()) for n in l]\n",
    "                for sent in l:\n",
    "                    if len(sent.split()) > 7:\n",
    "                        sent = sent + ' .'\n",
    "                        sentences.append(sent.split())\n",
    "    return sentences\n",
    "\n",
    "\n",
    "def tokenize_json2():\n",
    "    sentences = []\n",
    "    with open('train1.0.json') as json_f:\n",
    "        dataset = json.load(json_f)\n",
    "        data = dataset[DATA_KEY]\n",
    "        for datum in data:\n",
    "            l = datum[DOC_KEY][CONTEXT_KEY]\n",
    "            l = l.translate(translator)\n",
    "            l = l.strip()\n",
    "            l = tokenizer.tokenize(l)\n",
    "            l = [stripword(n.lower()) for n in l]\n",
    "            for sent in l:\n",
    "                if len(sent.split()) > 7:\n",
    "                    sent = sent + ' .'\n",
    "                    sentences.append(sent.split())\n",
    "    return sentences\n",
    "\n",
    "\n",
    "def tokenize_file():\n",
    "    sentences = []\n",
    "    with open(os.path.join(os.getcwd(), 'cTakes archive', fname)) as file:\n",
    "        for i in range(0,7):\n",
    "            next(file, None)\n",
    "        for l in file:\n",
    "            l = l.translate(translator)\n",
    "            l = l.strip()\n",
    "            l = l.lower()\n",
    "            l = stripword(l)\n",
    "            sentences.append(l.split())\n",
    "    return sentences\n",
    "\n",
    "\n",
    "\n",
    "\n",
    "def tokenize_xml():\n",
    "    sentences = []\n",
    "    for fname in os.listdir(os.path.join(os.getcwd(), 'cTakes archive/2try')): #go through all file names in current directory\n",
    "        if 'xml' in fname:\n",
    "            tree = ET.fromstring(open(os.path.join(os.getcwd(), 'cTakes archive/2try', fname)).read())\n",
    "            for node in tree.iter('TEXT'):\n",
    "                for elem in node.iter():\n",
    "                    l = elem.text.translate(translator)\n",
    "                    l = l.strip()\n",
    "                    l = l.lower()\n",
    "                    l = tokenizer.tokenize(l)\n",
    "                    l = [stripword(n) for n in l]\n",
    "                    for i, sent in enumerate(l):\n",
    "                        if i < 1:\n",
    "                            continue\n",
    "                        elif len(sent.split()) > 7:\n",
    "                            sent = sent + ' .'\n",
    "                            sentences.append(sent.split())\n",
    "    return sentences"
   ]
  },
  {
   "cell_type": "code",
   "execution_count": 71,
   "metadata": {},
   "outputs": [
    {
     "ename": "KeyboardInterrupt",
     "evalue": "",
     "output_type": "error",
     "traceback": [
      "\u001b[0;31m---------------------------------------------------------------------------\u001b[0m",
      "\u001b[0;31mKeyboardInterrupt\u001b[0m                         Traceback (most recent call last)",
      "\u001b[0;32m<ipython-input-71-8ae1dfa5f5ee>\u001b[0m in \u001b[0;36m<module>\u001b[0;34m\u001b[0m\n\u001b[1;32m     23\u001b[0m                 \u001b[0;32mbreak\u001b[0m\u001b[0;34m\u001b[0m\u001b[0m\n\u001b[1;32m     24\u001b[0m \u001b[0;34m\u001b[0m\u001b[0m\n\u001b[0;32m---> 25\u001b[0;31m \u001b[0mword_search_news\u001b[0m\u001b[0;34m(\u001b[0m\u001b[0;34m'shopping'\u001b[0m\u001b[0;34m,\u001b[0m \u001b[0;34m'2020-03-28'\u001b[0m\u001b[0;34m,\u001b[0m \u001b[0;34m'california'\u001b[0m\u001b[0;34m)\u001b[0m\u001b[0;34m\u001b[0m\u001b[0m\n\u001b[0m",
      "\u001b[0;32m<ipython-input-71-8ae1dfa5f5ee>\u001b[0m in \u001b[0;36mword_search_news\u001b[0;34m(word, date, location)\u001b[0m\n\u001b[1;32m      6\u001b[0m \u001b[0;34m\u001b[0m\u001b[0m\n\u001b[1;32m      7\u001b[0m     \u001b[0;32mwith\u001b[0m \u001b[0mjsonlines\u001b[0m\u001b[0;34m.\u001b[0m\u001b[0mopen\u001b[0m\u001b[0;34m(\u001b[0m\u001b[0mdirectory\u001b[0m\u001b[0;34m)\u001b[0m \u001b[0;32mas\u001b[0m \u001b[0mjson_f\u001b[0m\u001b[0;34m:\u001b[0m\u001b[0;34m\u001b[0m\u001b[0m\n\u001b[0;32m----> 8\u001b[0;31m         \u001b[0;32mfor\u001b[0m \u001b[0mi\u001b[0m\u001b[0;34m,\u001b[0m\u001b[0mline\u001b[0m \u001b[0;32min\u001b[0m \u001b[0menumerate\u001b[0m\u001b[0;34m(\u001b[0m\u001b[0mjson_f\u001b[0m\u001b[0;34m.\u001b[0m\u001b[0miter\u001b[0m\u001b[0;34m(\u001b[0m\u001b[0;34m)\u001b[0m\u001b[0;34m)\u001b[0m\u001b[0;34m:\u001b[0m\u001b[0;34m\u001b[0m\u001b[0m\n\u001b[0m\u001b[1;32m      9\u001b[0m             \u001b[0;32mif\u001b[0m \u001b[0mlen\u001b[0m\u001b[0;34m(\u001b[0m\u001b[0mline\u001b[0m\u001b[0;34m[\u001b[0m\u001b[0;34m'source'\u001b[0m\u001b[0;34m]\u001b[0m\u001b[0;34m[\u001b[0m\u001b[0;34m'locations'\u001b[0m\u001b[0;34m]\u001b[0m\u001b[0;34m)\u001b[0m \u001b[0;34m!=\u001b[0m \u001b[0;36m0\u001b[0m\u001b[0;34m:\u001b[0m\u001b[0;34m\u001b[0m\u001b[0m\n\u001b[1;32m     10\u001b[0m                 \u001b[0mcountry\u001b[0m \u001b[0;34m=\u001b[0m \u001b[0mline\u001b[0m\u001b[0;34m[\u001b[0m\u001b[0;34m'source'\u001b[0m\u001b[0;34m]\u001b[0m\u001b[0;34m[\u001b[0m\u001b[0;34m'locations'\u001b[0m\u001b[0;34m]\u001b[0m\u001b[0;34m[\u001b[0m\u001b[0;36m0\u001b[0m\u001b[0;34m]\u001b[0m\u001b[0;34m[\u001b[0m\u001b[0;34m'country'\u001b[0m\u001b[0;34m]\u001b[0m\u001b[0;34m\u001b[0m\u001b[0m\n",
      "\u001b[0;32m~/.local/lib/python3.5/site-packages/jsonlines/jsonlines.py\u001b[0m in \u001b[0;36miter\u001b[0;34m(self, type, allow_none, skip_empty, skip_invalid)\u001b[0m\n\u001b[1;32m    202\u001b[0m                         \u001b[0mtype\u001b[0m\u001b[0;34m=\u001b[0m\u001b[0mtype\u001b[0m\u001b[0;34m,\u001b[0m\u001b[0;34m\u001b[0m\u001b[0m\n\u001b[1;32m    203\u001b[0m                         \u001b[0mallow_none\u001b[0m\u001b[0;34m=\u001b[0m\u001b[0mallow_none\u001b[0m\u001b[0;34m,\u001b[0m\u001b[0;34m\u001b[0m\u001b[0m\n\u001b[0;32m--> 204\u001b[0;31m                         skip_empty=skip_empty)\n\u001b[0m\u001b[1;32m    205\u001b[0m                 \u001b[0;32mexcept\u001b[0m \u001b[0mInvalidLineError\u001b[0m\u001b[0;34m:\u001b[0m\u001b[0;34m\u001b[0m\u001b[0m\n\u001b[1;32m    206\u001b[0m                     \u001b[0;32mif\u001b[0m \u001b[0;32mnot\u001b[0m \u001b[0mskip_invalid\u001b[0m\u001b[0;34m:\u001b[0m\u001b[0;34m\u001b[0m\u001b[0m\n",
      "\u001b[0;32m~/.local/lib/python3.5/site-packages/jsonlines/jsonlines.py\u001b[0m in \u001b[0;36mread\u001b[0;34m(self, type, allow_none, skip_empty)\u001b[0m\n\u001b[1;32m    141\u001b[0m \u001b[0;34m\u001b[0m\u001b[0m\n\u001b[1;32m    142\u001b[0m         \u001b[0;32mtry\u001b[0m\u001b[0;34m:\u001b[0m\u001b[0;34m\u001b[0m\u001b[0m\n\u001b[0;32m--> 143\u001b[0;31m             \u001b[0mlineno\u001b[0m\u001b[0;34m,\u001b[0m \u001b[0mline\u001b[0m \u001b[0;34m=\u001b[0m \u001b[0mnext\u001b[0m\u001b[0;34m(\u001b[0m\u001b[0mself\u001b[0m\u001b[0;34m.\u001b[0m\u001b[0m_line_iter\u001b[0m\u001b[0;34m)\u001b[0m\u001b[0;34m\u001b[0m\u001b[0m\n\u001b[0m\u001b[1;32m    144\u001b[0m             \u001b[0;32mwhile\u001b[0m \u001b[0mskip_empty\u001b[0m \u001b[0;32mand\u001b[0m \u001b[0;32mnot\u001b[0m \u001b[0mline\u001b[0m\u001b[0;34m.\u001b[0m\u001b[0mrstrip\u001b[0m\u001b[0;34m(\u001b[0m\u001b[0;34m)\u001b[0m\u001b[0;34m:\u001b[0m\u001b[0;34m\u001b[0m\u001b[0m\n\u001b[1;32m    145\u001b[0m                 \u001b[0mlineno\u001b[0m\u001b[0;34m,\u001b[0m \u001b[0mline\u001b[0m \u001b[0;34m=\u001b[0m \u001b[0mnext\u001b[0m\u001b[0;34m(\u001b[0m\u001b[0mself\u001b[0m\u001b[0;34m.\u001b[0m\u001b[0m_line_iter\u001b[0m\u001b[0;34m)\u001b[0m\u001b[0;34m\u001b[0m\u001b[0m\n",
      "\u001b[0;31mKeyboardInterrupt\u001b[0m: "
     ]
    }
   ],
   "source": [
    "def word_search_news(word, date, location):\n",
    "    directory = '/home/schaa/Insight_Project_Framework/data/raw/news_data/aylien-covid-news.jsonl'\n",
    "    dateformat = \"%Y-%m-%d\"\n",
    "    startdate = datetime.datetime.strptime(date, dateformat)\n",
    "    enddate = startdate + datetime.timedelta(days = 14)\n",
    "    \n",
    "    with jsonlines.open(directory) as json_f:\n",
    "        for i,line in enumerate(json_f.iter()):\n",
    "            if len(line['source']['locations']) != 0:\n",
    "                country = line['source']['locations'][0]['country']\n",
    "                state = line['source']['locations'][0]['state']\n",
    "                city = line['source']['locations'][0]['city']\n",
    "            else:\n",
    "                country = None\n",
    "                state = None\n",
    "                \n",
    "            published = datetime.datetime.strptime(line['published_at'][:-6], dateformat + ' %H:%M:%S')\n",
    "            \n",
    "            if word.lower() in line['body'].lower() and startdate <= published <= enddate and state is not None and location in state: \n",
    "                print(line['published_at'])\n",
    "                print(line['title'])\n",
    "                print(line['body'])\n",
    "                break\n",
    "                \n",
    "word_search_news('shopping', '2020-03-28', 'california')"
   ]
  },
  {
   "cell_type": "code",
   "execution_count": 11,
   "metadata": {},
   "outputs": [
    {
     "name": "stdout",
     "output_type": "stream",
     "text": [
      "['bishop', 'holy', 'week', 'is', 'about', 'love', 'not', 'rituals', '.']\n",
      "537363\n"
     ]
    }
   ],
   "source": [
    "def tokenize_jsonl_file():\n",
    "    sentences = list()\n",
    "    directory = '/home/schaa/Insight_Project_Framework/data/raw/news_data/aylien-covid-news.jsonl'\n",
    "    \n",
    "    with jsonlines.open(directory) as json_f:\n",
    "        for line in json_f.iter():\n",
    "            if 'activity' not in line['body'] or 'activities' not in line['body']:\n",
    "                continue\n",
    "    \n",
    "            paragraph = line['title'].translate(translator)\n",
    "            paragraph = paragraph.strip()\n",
    "            paragraph = tokenizer.tokenize(paragraph)\n",
    "            paragraph = [stripword(n.lower()) for n in paragraph]\n",
    "            for sent in paragraph:\n",
    "                    sent = sent + ' .'\n",
    "                    sentences.append(sent.split())\n",
    "            paragraph = line['body'].translate(translator)\n",
    "            paragraph = paragraph.strip()\n",
    "            paragraph = tokenizer.tokenize(paragraph)\n",
    "            paragraph = [stripword(n.lower()) for n in paragraph]\n",
    "            for sent in paragraph:\n",
    "                    sent = sent + ' .'\n",
    "                    sentences.append(sent.split())\n",
    "            if len(sentences) >= 3000000:\n",
    "                break\n",
    "                \n",
    "    return sentences\n",
    "\n",
    "\n",
    "sentences = tokenize_jsonl_file()\n",
    "print(sentences[0])\n",
    "print(len(sentences))"
   ]
  },
  {
   "cell_type": "code",
   "execution_count": 12,
   "metadata": {},
   "outputs": [
    {
     "name": "stdout",
     "output_type": "stream",
     "text": [
      "['bishop', 'holy', 'week', 'is', 'about', 'love', 'not', 'rituals', '.']\n",
      "737071\n"
     ]
    }
   ],
   "source": [
    "def tokenize_json_folder():\n",
    "    sentences = list()\n",
    "    \n",
    "    directory = '/home/schaa/Insight_Project_Framework/data/raw/cord_19/document_parses/pdf_json'\n",
    "    for fname in os.listdir(directory): #go through all file names in current directory\n",
    "            with open(os.path.join(directory, fname)) as file:\n",
    "                data = json.load(file)\n",
    "                abstract = data['abstract']\n",
    "                if len(abstract) != 0:\n",
    "                    for paragraph in abstract:\n",
    "                        if 'activity' not in paragraph['text'] or 'activities' not in paragraph['text']:\n",
    "                            continue\n",
    "                            \n",
    "                        paragraph = paragraph['text'].translate(translator)\n",
    "                        paragraph = paragraph.strip()\n",
    "                        paragraph = tokenizer.tokenize(paragraph)\n",
    "                        paragraph = [stripword(n.lower()) for n in paragraph]\n",
    "                        for sent in paragraph:\n",
    "                                sent = sent + ' .'\n",
    "                                sentences.append(sent.split())\n",
    "                                \n",
    "            if len(data['body_text']) != 0:\n",
    "                for paragraph in data['body_text']:\n",
    "                    if 'activity' not in paragraph['text'] or 'activities' not in paragraph['text']:\n",
    "                        continue\n",
    "                        \n",
    "                    paragraph = paragraph['text'].translate(translator)\n",
    "                    paragraph = paragraph.strip()\n",
    "                    paragraph = tokenizer.tokenize(paragraph)\n",
    "                    paragraph = [stripword(n.lower()) for n in paragraph]\n",
    "                    for sent in paragraph:\n",
    "                            sent = sent + ' .'\n",
    "                            sentences.append(sent.split())\n",
    "            if len(sentences) >= 500000:\n",
    "                break\n",
    "                                \n",
    "    return sentences\n",
    "\n",
    "\n",
    "sentences2 = tokenize_json_folder()\n",
    "sentences += sentences2\n",
    "print(sentences[0])\n",
    "print(len(sentences))"
   ]
  },
  {
   "cell_type": "code",
   "execution_count": 20,
   "metadata": {},
   "outputs": [],
   "source": [
    "bigram_transformer = phrases.Phrases(sentences) \n",
    "bigram = phrases.Phraser(bigram_transformer)"
   ]
  },
  {
   "cell_type": "code",
   "execution_count": 21,
   "metadata": {},
   "outputs": [],
   "source": [
    "currentmodel = Word2Vec(bigram[sentences], workers=-1, sg=0, size=100, min_count=5, window=10, sample=1e-3)"
   ]
  },
  {
   "cell_type": "code",
   "execution_count": 22,
   "metadata": {},
   "outputs": [
    {
     "data": {
      "text/plain": [
       "array([-1.7209245e-03, -4.8366473e-03, -3.7536956e-03, -1.2026062e-03,\n",
       "        3.6901839e-03, -2.1203952e-03, -1.5890136e-04, -2.1275179e-03,\n",
       "        3.9689871e-03,  9.9287769e-05, -2.1611762e-03, -2.6363800e-03,\n",
       "        2.8198350e-03, -1.0936179e-03,  3.4027041e-03, -3.6560018e-03,\n",
       "       -3.2185968e-03, -2.1162481e-05,  3.8418570e-03, -9.9813356e-04,\n",
       "        4.6506617e-03,  1.2676957e-03,  3.2355636e-03,  4.8797666e-03,\n",
       "        1.6756153e-04,  2.1046952e-03, -1.7666030e-03, -1.6566495e-04,\n",
       "       -1.7599660e-03, -2.8558935e-03,  2.0117350e-05, -3.9041466e-03,\n",
       "       -2.5062822e-03, -2.5403248e-03, -3.1070588e-03, -3.5066674e-03,\n",
       "       -2.0356488e-03,  7.5454602e-04, -3.9249989e-03,  1.3897578e-03,\n",
       "        1.4481418e-03, -1.6938585e-03, -6.9755869e-04, -1.8931064e-03,\n",
       "       -2.0736614e-03, -3.4397778e-03,  3.1156142e-03,  3.6574288e-03,\n",
       "        3.3943760e-03,  4.7130119e-03,  4.2245700e-03, -5.3013617e-04,\n",
       "       -4.2708497e-03, -4.1595395e-03, -9.0856425e-04, -2.8981653e-03,\n",
       "       -4.5244577e-03,  9.7916985e-04, -3.5449236e-03, -3.8722570e-03,\n",
       "        1.4947435e-03, -2.9774471e-03, -8.8336831e-04, -1.4326308e-03,\n",
       "        1.1781499e-03,  4.5822579e-03, -4.2183297e-03,  2.5217892e-03,\n",
       "        2.2612361e-03,  8.3659240e-04, -2.4352991e-03,  5.5100842e-05,\n",
       "       -4.4954331e-03,  3.4755280e-03, -4.3264357e-03, -8.9734612e-04,\n",
       "        1.8172000e-04,  2.3702891e-03,  1.3750397e-03,  8.7706937e-04,\n",
       "        3.7585436e-03,  1.2399810e-03,  2.1188350e-03, -3.7131091e-03,\n",
       "       -3.0439803e-03,  3.0990669e-03, -1.7073767e-03, -3.0128718e-03,\n",
       "       -8.4471423e-04, -8.2209043e-04,  1.3040917e-03, -2.5647448e-03,\n",
       "        4.0967176e-03,  3.6829640e-03,  2.0652590e-03, -2.0328751e-03,\n",
       "        2.0948886e-04,  3.5676383e-03,  3.3425502e-04,  3.1641785e-03],\n",
       "      dtype=float32)"
      ]
     },
     "execution_count": 22,
     "metadata": {},
     "output_type": "execute_result"
    }
   ],
   "source": [
    "len(currentmodel.wv.vocab)\n",
    "currentmodel.wv['swimming']"
   ]
  },
  {
   "cell_type": "code",
   "execution_count": 24,
   "metadata": {},
   "outputs": [],
   "source": [
    "currentmodel.init_sims(replace=True)\n",
    "currentmodel.save(\"/home/schaa/Insight_Project_Framework/app/test_model\")"
   ]
  },
  {
   "cell_type": "code",
   "execution_count": 23,
   "metadata": {},
   "outputs": [
    {
     "ename": "FileNotFoundError",
     "evalue": "[Errno 2] No such file or directory: '/home/schaa/Insight_Project_Framework/app/test_model'",
     "output_type": "error",
     "traceback": [
      "\u001b[0;31m---------------------------------------------------------------------------\u001b[0m",
      "\u001b[0;31mFileNotFoundError\u001b[0m                         Traceback (most recent call last)",
      "\u001b[0;32m<ipython-input-23-131c4e1ee368>\u001b[0m in \u001b[0;36m<module>\u001b[0;34m\u001b[0m\n\u001b[0;32m----> 1\u001b[0;31m \u001b[0mcurrentmodel\u001b[0m \u001b[0;34m=\u001b[0m \u001b[0mWord2Vec\u001b[0m\u001b[0;34m.\u001b[0m\u001b[0mload\u001b[0m\u001b[0;34m(\u001b[0m\u001b[0;34m\"/home/schaa/Insight_Project_Framework/app/test_model\"\u001b[0m\u001b[0;34m)\u001b[0m\u001b[0;34m\u001b[0m\u001b[0m\n\u001b[0m",
      "\u001b[0;32m~/.local/lib/python3.5/site-packages/gensim/models/word2vec.py\u001b[0m in \u001b[0;36mload\u001b[0;34m(cls, *args, **kwargs)\u001b[0m\n\u001b[1;32m   1139\u001b[0m         \"\"\"\n\u001b[1;32m   1140\u001b[0m         \u001b[0;32mtry\u001b[0m\u001b[0;34m:\u001b[0m\u001b[0;34m\u001b[0m\u001b[0m\n\u001b[0;32m-> 1141\u001b[0;31m             \u001b[0mmodel\u001b[0m \u001b[0;34m=\u001b[0m \u001b[0msuper\u001b[0m\u001b[0;34m(\u001b[0m\u001b[0mWord2Vec\u001b[0m\u001b[0;34m,\u001b[0m \u001b[0mcls\u001b[0m\u001b[0;34m)\u001b[0m\u001b[0;34m.\u001b[0m\u001b[0mload\u001b[0m\u001b[0;34m(\u001b[0m\u001b[0;34m*\u001b[0m\u001b[0margs\u001b[0m\u001b[0;34m,\u001b[0m \u001b[0;34m**\u001b[0m\u001b[0mkwargs\u001b[0m\u001b[0;34m)\u001b[0m\u001b[0;34m\u001b[0m\u001b[0m\n\u001b[0m\u001b[1;32m   1142\u001b[0m \u001b[0;34m\u001b[0m\u001b[0m\n\u001b[1;32m   1143\u001b[0m             \u001b[0;31m# for backward compatibility for `max_final_vocab` feature\u001b[0m\u001b[0;34m\u001b[0m\u001b[0;34m\u001b[0m\u001b[0m\n",
      "\u001b[0;32m~/.local/lib/python3.5/site-packages/gensim/models/base_any2vec.py\u001b[0m in \u001b[0;36mload\u001b[0;34m(cls, *args, **kwargs)\u001b[0m\n\u001b[1;32m   1228\u001b[0m \u001b[0;34m\u001b[0m\u001b[0m\n\u001b[1;32m   1229\u001b[0m         \"\"\"\n\u001b[0;32m-> 1230\u001b[0;31m         \u001b[0mmodel\u001b[0m \u001b[0;34m=\u001b[0m \u001b[0msuper\u001b[0m\u001b[0;34m(\u001b[0m\u001b[0mBaseWordEmbeddingsModel\u001b[0m\u001b[0;34m,\u001b[0m \u001b[0mcls\u001b[0m\u001b[0;34m)\u001b[0m\u001b[0;34m.\u001b[0m\u001b[0mload\u001b[0m\u001b[0;34m(\u001b[0m\u001b[0;34m*\u001b[0m\u001b[0margs\u001b[0m\u001b[0;34m,\u001b[0m \u001b[0;34m**\u001b[0m\u001b[0mkwargs\u001b[0m\u001b[0;34m)\u001b[0m\u001b[0;34m\u001b[0m\u001b[0m\n\u001b[0m\u001b[1;32m   1231\u001b[0m         \u001b[0;32mif\u001b[0m \u001b[0;32mnot\u001b[0m \u001b[0mhasattr\u001b[0m\u001b[0;34m(\u001b[0m\u001b[0mmodel\u001b[0m\u001b[0;34m,\u001b[0m \u001b[0;34m'ns_exponent'\u001b[0m\u001b[0;34m)\u001b[0m\u001b[0;34m:\u001b[0m\u001b[0;34m\u001b[0m\u001b[0m\n\u001b[1;32m   1232\u001b[0m             \u001b[0mmodel\u001b[0m\u001b[0;34m.\u001b[0m\u001b[0mns_exponent\u001b[0m \u001b[0;34m=\u001b[0m \u001b[0;36m0.75\u001b[0m\u001b[0;34m\u001b[0m\u001b[0m\n",
      "\u001b[0;32m~/.local/lib/python3.5/site-packages/gensim/models/base_any2vec.py\u001b[0m in \u001b[0;36mload\u001b[0;34m(cls, fname_or_handle, **kwargs)\u001b[0m\n\u001b[1;32m    600\u001b[0m \u001b[0;34m\u001b[0m\u001b[0m\n\u001b[1;32m    601\u001b[0m         \"\"\"\n\u001b[0;32m--> 602\u001b[0;31m         \u001b[0;32mreturn\u001b[0m \u001b[0msuper\u001b[0m\u001b[0;34m(\u001b[0m\u001b[0mBaseAny2VecModel\u001b[0m\u001b[0;34m,\u001b[0m \u001b[0mcls\u001b[0m\u001b[0;34m)\u001b[0m\u001b[0;34m.\u001b[0m\u001b[0mload\u001b[0m\u001b[0;34m(\u001b[0m\u001b[0mfname_or_handle\u001b[0m\u001b[0;34m,\u001b[0m \u001b[0;34m**\u001b[0m\u001b[0mkwargs\u001b[0m\u001b[0;34m)\u001b[0m\u001b[0;34m\u001b[0m\u001b[0m\n\u001b[0m\u001b[1;32m    603\u001b[0m \u001b[0;34m\u001b[0m\u001b[0m\n\u001b[1;32m    604\u001b[0m     \u001b[0;32mdef\u001b[0m \u001b[0msave\u001b[0m\u001b[0;34m(\u001b[0m\u001b[0mself\u001b[0m\u001b[0;34m,\u001b[0m \u001b[0mfname_or_handle\u001b[0m\u001b[0;34m,\u001b[0m \u001b[0;34m**\u001b[0m\u001b[0mkwargs\u001b[0m\u001b[0;34m)\u001b[0m\u001b[0;34m:\u001b[0m\u001b[0;34m\u001b[0m\u001b[0m\n",
      "\u001b[0;32m~/.local/lib/python3.5/site-packages/gensim/utils.py\u001b[0m in \u001b[0;36mload\u001b[0;34m(cls, fname, mmap)\u001b[0m\n\u001b[1;32m    433\u001b[0m         \u001b[0mcompress\u001b[0m\u001b[0;34m,\u001b[0m \u001b[0msubname\u001b[0m \u001b[0;34m=\u001b[0m \u001b[0mSaveLoad\u001b[0m\u001b[0;34m.\u001b[0m\u001b[0m_adapt_by_suffix\u001b[0m\u001b[0;34m(\u001b[0m\u001b[0mfname\u001b[0m\u001b[0;34m)\u001b[0m\u001b[0;34m\u001b[0m\u001b[0m\n\u001b[1;32m    434\u001b[0m \u001b[0;34m\u001b[0m\u001b[0m\n\u001b[0;32m--> 435\u001b[0;31m         \u001b[0mobj\u001b[0m \u001b[0;34m=\u001b[0m \u001b[0munpickle\u001b[0m\u001b[0;34m(\u001b[0m\u001b[0mfname\u001b[0m\u001b[0;34m)\u001b[0m\u001b[0;34m\u001b[0m\u001b[0m\n\u001b[0m\u001b[1;32m    436\u001b[0m         \u001b[0mobj\u001b[0m\u001b[0;34m.\u001b[0m\u001b[0m_load_specials\u001b[0m\u001b[0;34m(\u001b[0m\u001b[0mfname\u001b[0m\u001b[0;34m,\u001b[0m \u001b[0mmmap\u001b[0m\u001b[0;34m,\u001b[0m \u001b[0mcompress\u001b[0m\u001b[0;34m,\u001b[0m \u001b[0msubname\u001b[0m\u001b[0;34m)\u001b[0m\u001b[0;34m\u001b[0m\u001b[0m\n\u001b[1;32m    437\u001b[0m         \u001b[0mlogger\u001b[0m\u001b[0;34m.\u001b[0m\u001b[0minfo\u001b[0m\u001b[0;34m(\u001b[0m\u001b[0;34m\"loaded %s\"\u001b[0m\u001b[0;34m,\u001b[0m \u001b[0mfname\u001b[0m\u001b[0;34m)\u001b[0m\u001b[0;34m\u001b[0m\u001b[0m\n",
      "\u001b[0;32m~/.local/lib/python3.5/site-packages/gensim/utils.py\u001b[0m in \u001b[0;36munpickle\u001b[0;34m(fname)\u001b[0m\n\u001b[1;32m   1393\u001b[0m \u001b[0;34m\u001b[0m\u001b[0m\n\u001b[1;32m   1394\u001b[0m     \"\"\"\n\u001b[0;32m-> 1395\u001b[0;31m     \u001b[0;32mwith\u001b[0m \u001b[0mopen\u001b[0m\u001b[0;34m(\u001b[0m\u001b[0mfname\u001b[0m\u001b[0;34m,\u001b[0m \u001b[0;34m'rb'\u001b[0m\u001b[0;34m)\u001b[0m \u001b[0;32mas\u001b[0m \u001b[0mf\u001b[0m\u001b[0;34m:\u001b[0m\u001b[0;34m\u001b[0m\u001b[0m\n\u001b[0m\u001b[1;32m   1396\u001b[0m         \u001b[0;31m# Because of loading from S3 load can't be used (missing readline in smart_open)\u001b[0m\u001b[0;34m\u001b[0m\u001b[0;34m\u001b[0m\u001b[0m\n\u001b[1;32m   1397\u001b[0m         \u001b[0;32mif\u001b[0m \u001b[0msys\u001b[0m\u001b[0;34m.\u001b[0m\u001b[0mversion_info\u001b[0m \u001b[0;34m>\u001b[0m \u001b[0;34m(\u001b[0m\u001b[0;36m3\u001b[0m\u001b[0;34m,\u001b[0m \u001b[0;36m0\u001b[0m\u001b[0;34m)\u001b[0m\u001b[0;34m:\u001b[0m\u001b[0;34m\u001b[0m\u001b[0m\n",
      "\u001b[0;32m~/.local/lib/python3.5/site-packages/smart_open/smart_open_lib.py\u001b[0m in \u001b[0;36mopen\u001b[0;34m(uri, mode, buffering, encoding, errors, newline, closefd, opener, ignore_ext, transport_params)\u001b[0m\n\u001b[1;32m    187\u001b[0m         \u001b[0mbuffering\u001b[0m\u001b[0;34m=\u001b[0m\u001b[0mbuffering\u001b[0m\u001b[0;34m,\u001b[0m\u001b[0;34m\u001b[0m\u001b[0m\n\u001b[1;32m    188\u001b[0m         \u001b[0mencoding\u001b[0m\u001b[0;34m=\u001b[0m\u001b[0mencoding\u001b[0m\u001b[0;34m,\u001b[0m\u001b[0;34m\u001b[0m\u001b[0m\n\u001b[0;32m--> 189\u001b[0;31m         \u001b[0merrors\u001b[0m\u001b[0;34m=\u001b[0m\u001b[0merrors\u001b[0m\u001b[0;34m,\u001b[0m\u001b[0;34m\u001b[0m\u001b[0m\n\u001b[0m\u001b[1;32m    190\u001b[0m     )\n\u001b[1;32m    191\u001b[0m     \u001b[0;32mif\u001b[0m \u001b[0mfobj\u001b[0m \u001b[0;32mis\u001b[0m \u001b[0;32mnot\u001b[0m \u001b[0;32mNone\u001b[0m\u001b[0;34m:\u001b[0m\u001b[0;34m\u001b[0m\u001b[0m\n",
      "\u001b[0;32m~/.local/lib/python3.5/site-packages/smart_open/smart_open_lib.py\u001b[0m in \u001b[0;36m_shortcut_open\u001b[0;34m(uri, mode, ignore_ext, buffering, encoding, errors)\u001b[0m\n\u001b[1;32m    360\u001b[0m         \u001b[0mopen_kwargs\u001b[0m\u001b[0;34m[\u001b[0m\u001b[0;34m'errors'\u001b[0m\u001b[0;34m]\u001b[0m \u001b[0;34m=\u001b[0m \u001b[0merrors\u001b[0m\u001b[0;34m\u001b[0m\u001b[0m\n\u001b[1;32m    361\u001b[0m \u001b[0;34m\u001b[0m\u001b[0m\n\u001b[0;32m--> 362\u001b[0;31m     \u001b[0;32mreturn\u001b[0m \u001b[0m_builtin_open\u001b[0m\u001b[0;34m(\u001b[0m\u001b[0mlocal_path\u001b[0m\u001b[0;34m,\u001b[0m \u001b[0mmode\u001b[0m\u001b[0;34m,\u001b[0m \u001b[0mbuffering\u001b[0m\u001b[0;34m=\u001b[0m\u001b[0mbuffering\u001b[0m\u001b[0;34m,\u001b[0m \u001b[0;34m**\u001b[0m\u001b[0mopen_kwargs\u001b[0m\u001b[0;34m)\u001b[0m\u001b[0;34m\u001b[0m\u001b[0m\n\u001b[0m\u001b[1;32m    363\u001b[0m \u001b[0;34m\u001b[0m\u001b[0m\n\u001b[1;32m    364\u001b[0m \u001b[0;34m\u001b[0m\u001b[0m\n",
      "\u001b[0;31mFileNotFoundError\u001b[0m: [Errno 2] No such file or directory: '/home/schaa/Insight_Project_Framework/app/test_model'"
     ]
    }
   ],
   "source": [
    "currentmodel = Word2Vec.load(\"/home/schaa/Insight_Project_Framework/app/test_model\")"
   ]
  },
  {
   "cell_type": "code",
   "execution_count": 25,
   "metadata": {},
   "outputs": [
    {
     "name": "stdout",
     "output_type": "stream",
     "text": [
      "-0.06040499731898308\n",
      "-0.06187785789370537\n",
      "-0.006080436985939741\n",
      "0.07085946947336197\n",
      "-0.06655030697584152\n",
      "-0.2147689312696457\n"
     ]
    }
   ],
   "source": [
    "print(1 - spatial.distance.cosine(currentmodel.wv['swimming'], currentmodel.wv['open'])) \n",
    "print(1 - spatial.distance.cosine(currentmodel.wv['swimming'], currentmodel.wv['closed'])) \n",
    "print(1 - spatial.distance.cosine(currentmodel.wv['swimming'], currentmodel.wv['risky'])) \n",
    "print(1 - spatial.distance.cosine(currentmodel.wv['swimming'], currentmodel.wv['safe']))\n",
    "print(1 - spatial.distance.cosine(currentmodel.wv['gym'], currentmodel.wv['risky'])) \n",
    "print(1 - spatial.distance.cosine(currentmodel.wv['gym'], currentmodel.wv['safe']))"
   ]
  },
  {
   "cell_type": "code",
   "execution_count": 26,
   "metadata": {},
   "outputs": [],
   "source": [
    "def tsne_plot(words, vectors, iterations, seed, title): \n",
    "    \"Creates and TSNE model and plots it\"\n",
    "    tsne_model = TSNE(perplexity=5, n_components=2, init='pca', n_iter=iterations, random_state=seed) #you may need to tune these, epsecially the perplexity. #Use PCA to reduce dimensionality to 2-D, an \"X\" and a \"Y \n",
    "    new_values = tsne_model.fit_transform(vectors)\n",
    "\n",
    "    x = []\n",
    "    y = []\n",
    "    for value in new_values:\n",
    "        x.append(value[0])\n",
    "        y.append(value[1])\n",
    "        \n",
    "    plt.figure(figsize=(10, 10)) \n",
    "    for i in range(len(x)):\n",
    "        plt.scatter(x[i],y[i])\n",
    "        plt.annotate(words[i],\n",
    "                     xy=(x[i], y[i]),\n",
    "                     xytext=(5, 2),\n",
    "                     textcoords='offset points',\n",
    "                     ha='right',\n",
    "                     va='bottom')\n",
    "    plt.ylabel(\"Latent Dimension 1\") #Some pyplot reminders: https://matplotlib.org/users/pyplot_tutorial.html\n",
    "    plt.xlabel(\"Latent Dimension 2\")\n",
    "    plt.title(title)\n",
    "    plt.show()"
   ]
  },
  {
   "cell_type": "code",
   "execution_count": 27,
   "metadata": {},
   "outputs": [],
   "source": [
    "my_word_list=[]\n",
    "my_word_vectors=[]\n",
    "label=[]\n",
    "\n",
    "words_to_explore= ['safe', 'risky', 'good', 'bad', 'open', 'closed', 'swimming', 'gym', 'cinema', 'gorcery', 'shopping', 'running', 'taxi', 'bus', 'plane', 'social_distancing', 'isolating', 'restaurant']\n",
    "\n",
    "for i in words_to_explore:   \n",
    "    try:\n",
    "        if my_word_list not in my_word_list:\n",
    "            my_word_vectors.append(currentmodel.wv[i])\n",
    "            my_word_list.append(i)\n",
    "    except KeyError: #if one of the words_to_explore is not in the model vocab, just skip it\n",
    "        continue"
   ]
  },
  {
   "cell_type": "code",
   "execution_count": 28,
   "metadata": {},
   "outputs": [
    {
     "data": {
      "image/png": "[encoded data removed]",
      "text/plain": [
       "<Figure size 720x720 with 1 Axes>"
      ]
     },
     "metadata": {
      "needs_background": "light"
     },
     "output_type": "display_data"
    }
   ],
   "source": [
    "tsne_plot(my_word_list, my_word_vectors, 3000, 23,  \"TSNE Visualization of Word-Vectors\")"
   ]
  },
  {
   "cell_type": "code",
   "execution_count": 102,
   "metadata": {},
   "outputs": [
    {
     "data": {
      "text/plain": [
       "<module 'word_lists' from '/home/schaa/Insight_Project_Framework/training/word_lists.py'>"
      ]
     },
     "execution_count": 102,
     "metadata": {},
     "output_type": "execute_result"
    }
   ],
   "source": [
    "import build_lexicon \n",
    "import word_lists \n",
    "import dimension\n",
    "import semantic_svm\n",
    "\n",
    "import importlib\n",
    "importlib.reload(word_lists)"
   ]
  },
  {
   "cell_type": "code",
   "execution_count": 103,
   "metadata": {},
   "outputs": [],
   "source": [
    "# genderwords = build_lexicon.dimension_lexicon_builtin('gender', currentmodel) \n",
    "safewords = build_lexicon.dimension_lexicon_builtin('safe', currentmodel) "
   ]
  },
  {
   "cell_type": "code",
   "execution_count": 104,
   "metadata": {},
   "outputs": [
    {
     "name": "stdout",
     "output_type": "stream",
     "text": [
      "\u001b[1msafe\u001b[0m method:larsen \n",
      " \t Train Accuracy: 0.92 Test Accuracy: 0.93 \n",
      "\t Correct/Total Train N: 59/64 \n",
      "\t Correct/Total Test N: 13/14 \n",
      "\n"
     ]
    }
   ],
   "source": [
    "safe = dimension.dimension(safewords,'larsen') \n",
    "\n",
    "for i in [safe]:\n",
    "    print('\\033[1m' + i.semantic_direction.direction_of_interest + '\\033[0m' + \" method:\" + str(i.method) ,\n",
    "          \"\\n \\t Train Accuracy: \" + str(round(i.trainaccuracy()[0],2)) , \"Test Accuracy: \" + str(round(i.testaccuracy()[0],2)), '\\n'\n",
    "            \"\\t Correct/Total Train N:\", str(sum(equal(i.trainaccuracy()[1],i.trainaccuracy()[2]))) + \"/\" + str(len(i.trainaccuracy()[2])) , '\\n'\n",
    "            \"\\t Correct/Total Test N:\", str(sum(equal(i.testaccuracy()[1],i.testaccuracy()[2]))) +  \"/\" + str(len(i.testaccuracy()[2])) , '\\n' )"
   ]
  },
  {
   "cell_type": "code",
   "execution_count": 108,
   "metadata": {},
   "outputs": [],
   "source": [
    "def acc_plot(testing_dimension, dimension_lexicon):\n",
    "    rcParams['figure.figsize'] = 15,9\n",
    "    \n",
    "    \n",
    "    myplot= stripplot(testing_dimension.testaccuracy()[3], dimension_lexicon.pos_test + dimension_lexicon.neg_test, testing_dimension.testaccuracy()[1], size=10)\n",
    "    L= plt.legend(loc=\"upper left\", bbox_to_anchor=[0, 1],\n",
    "               ncol=2, shadow=True, title=\"True Class\", fancybox=True)\n",
    "    plt.ylabel(\"Testing Words\")\n",
    "    plt.xlabel(\"Cosine similarity to dimension, possible range -1 (\" + dimension_lexicon.neg_label + \") to +1 (\" + dimension_lexicon.pos_label + \")\" )\n",
    "    L.get_texts()[0].set_text(dimension_lexicon.neg_label)\n",
    "    L.get_texts()[1].set_text(dimension_lexicon.pos_label)\n",
    "    \n",
    "    plt.axvline(x=0, color='red', linestyle='dashed')\n",
    "    plt.title(\"Cosine similarity between testing words and \"+ str(testing_dimension.semantic_direction.direction_of_interest) + \" dimension\" )\n",
    "    myplot.grid(b=True, linestyle='dashed')\n",
    "    plt.show()"
   ]
  },
  {
   "cell_type": "code",
   "execution_count": 109,
   "metadata": {},
   "outputs": [
    {
     "name": "stdout",
     "output_type": "stream",
     "text": [
      "[0.028205942, 0.027229566, 0.05709841, 0.09104447, 0.04997372, -0.040781796, -0.13403529, -0.12381462, -0.15427205, -0.1714447, -0.05391199, -0.15154207, -0.07031882, -0.07768163] [1, 1, 1, 1, 1, 1, 0, 0, 0, 0, 0, 0, 0, 0]\n"
     ]
    },
    {
     "data": {
      "image/png": "[encoded data removed]",
      "text/plain": [
       "<Figure size 1080x648 with 1 Axes>"
      ]
     },
     "metadata": {
      "needs_background": "light"
     },
     "output_type": "display_data"
    }
   ],
   "source": [
    "# acc_plot(good, goodwords) #change this to a dimension lexicon and corresponding set of words\n",
    "acc_plot(safe, safewords) "
   ]
  },
  {
   "cell_type": "code",
   "execution_count": 114,
   "metadata": {},
   "outputs": [],
   "source": [
    "safe_test={'pos': ['social_distancing','outside', 'park', 'home', 'running', 'swimming', 'university'], 'neg': ['gym', 'cinema', 'grocery', 'shopping', 'bus', 'plane', 'restaurant', 'festival']}\n",
    "value_pos = [(1 - spatial.distance.cosine(currentmodel.wv[i], currentmodel.wv['safe'])) - (1 - spatial.distance.cosine(currentmodel.wv[i], currentmodel.wv['risky']))/2 for i in safe_test['pos']]\n",
    "value_neg = [(1 - spatial.distance.cosine(currentmodel.wv[i], currentmodel.wv['safe'])) - (1 - spatial.distance.cosine(currentmodel.wv[i], currentmodel.wv['risky']))/2 for i in safe_test['neg']]\n"
   ]
  },
  {
   "cell_type": "code",
   "execution_count": 115,
   "metadata": {},
   "outputs": [
    {
     "name": "stdout",
     "output_type": "stream",
     "text": [
      "[-0.043697180692106485, 0.09606245532631874, -0.07440789975225925, 0.1465432047843933, -0.273429311811924, 0.07389968796633184, 0.19318725913763046]\n",
      "[-0.18149377778172493, 0.20394474267959595, -0.06505624670535326, 0.031789710745215416, -0.037211619317531586, 0.19377272948622704, 0.012008894118480384, -0.09890192188322544]\n"
     ]
    }
   ],
   "source": [
    "print(value_pos)\n",
    "print(value_neg)"
   ]
  },
  {
   "cell_type": "code",
   "execution_count": 116,
   "metadata": {},
   "outputs": [
    {
     "ename": "KeyError",
     "evalue": "'social_distancing'",
     "output_type": "error",
     "traceback": [
      "\u001b[0;31m---------------------------------------------------------------------------\u001b[0m",
      "\u001b[0;31mKeyError\u001b[0m                                  Traceback (most recent call last)",
      "\u001b[0;32m<ipython-input-116-e7422de21d78>\u001b[0m in \u001b[0;36m<module>\u001b[0;34m\u001b[0m\n\u001b[1;32m     15\u001b[0m     \u001b[0mplt\u001b[0m\u001b[0;34m.\u001b[0m\u001b[0mshow\u001b[0m\u001b[0;34m(\u001b[0m\u001b[0;34m)\u001b[0m\u001b[0;34m\u001b[0m\u001b[0m\n\u001b[1;32m     16\u001b[0m \u001b[0;34m\u001b[0m\u001b[0m\n\u001b[0;32m---> 17\u001b[0;31m \u001b[0macc_plot2\u001b[0m\u001b[0;34m(\u001b[0m\u001b[0mvalue_pos\u001b[0m\u001b[0;34m,\u001b[0m \u001b[0mvalue_neg\u001b[0m\u001b[0;34m,\u001b[0m \u001b[0msafe_test\u001b[0m\u001b[0;34m)\u001b[0m\u001b[0;34m\u001b[0m\u001b[0m\n\u001b[0m",
      "\u001b[0;32m<ipython-input-116-e7422de21d78>\u001b[0m in \u001b[0;36macc_plot2\u001b[0;34m(value_pos, value_neg, safe_test)\u001b[0m\n\u001b[1;32m      2\u001b[0m     \u001b[0mrcParams\u001b[0m\u001b[0;34m[\u001b[0m\u001b[0;34m'figure.figsize'\u001b[0m\u001b[0;34m]\u001b[0m \u001b[0;34m=\u001b[0m \u001b[0;36m15\u001b[0m\u001b[0;34m,\u001b[0m\u001b[0;36m9\u001b[0m\u001b[0;34m\u001b[0m\u001b[0m\n\u001b[1;32m      3\u001b[0m \u001b[0;34m\u001b[0m\u001b[0m\n\u001b[0;32m----> 4\u001b[0;31m     \u001b[0mmyplot\u001b[0m\u001b[0;34m=\u001b[0m \u001b[0mstripplot\u001b[0m\u001b[0;34m(\u001b[0m\u001b[0mvalue_pos\u001b[0m \u001b[0;34m+\u001b[0m \u001b[0mvalue_neg\u001b[0m\u001b[0;34m,\u001b[0m \u001b[0msafe_test\u001b[0m\u001b[0;34m[\u001b[0m\u001b[0;34m'pos'\u001b[0m\u001b[0;34m]\u001b[0m \u001b[0;34m+\u001b[0m \u001b[0msafe_test\u001b[0m\u001b[0;34m[\u001b[0m\u001b[0;34m'neg'\u001b[0m\u001b[0;34m]\u001b[0m\u001b[0;34m,\u001b[0m \u001b[0;34m[\u001b[0m\u001b[0;36m1\u001b[0m\u001b[0;34m]\u001b[0m\u001b[0;34m*\u001b[0m\u001b[0;36m7\u001b[0m\u001b[0;34m+\u001b[0m\u001b[0;34m[\u001b[0m\u001b[0;36m0\u001b[0m\u001b[0;34m]\u001b[0m\u001b[0;34m*\u001b[0m\u001b[0;36m9\u001b[0m\u001b[0;34m,\u001b[0m \u001b[0msize\u001b[0m\u001b[0;34m=\u001b[0m\u001b[0;36m10\u001b[0m\u001b[0;34m)\u001b[0m\u001b[0;34m\u001b[0m\u001b[0m\n\u001b[0m\u001b[1;32m      5\u001b[0m     L= plt.legend(loc=\"upper left\", bbox_to_anchor=[0, 1],\n\u001b[1;32m      6\u001b[0m                ncol=2, shadow=True, title=\"True Class\", fancybox=True)\n",
      "\u001b[0;32m/usr/local/lib/python3.5/dist-packages/seaborn/categorical.py\u001b[0m in \u001b[0;36mstripplot\u001b[0;34m(x, y, hue, data, order, hue_order, jitter, dodge, orient, color, palette, size, edgecolor, linewidth, ax, **kwargs)\u001b[0m\n\u001b[1;32m   2788\u001b[0m \u001b[0;34m\u001b[0m\u001b[0m\n\u001b[1;32m   2789\u001b[0m     plotter = _StripPlotter(x, y, hue, data, order, hue_order,\n\u001b[0;32m-> 2790\u001b[0;31m                             jitter, dodge, orient, color, palette)\n\u001b[0m\u001b[1;32m   2791\u001b[0m     \u001b[0;32mif\u001b[0m \u001b[0max\u001b[0m \u001b[0;32mis\u001b[0m \u001b[0;32mNone\u001b[0m\u001b[0;34m:\u001b[0m\u001b[0;34m\u001b[0m\u001b[0m\n\u001b[1;32m   2792\u001b[0m         \u001b[0max\u001b[0m \u001b[0;34m=\u001b[0m \u001b[0mplt\u001b[0m\u001b[0;34m.\u001b[0m\u001b[0mgca\u001b[0m\u001b[0;34m(\u001b[0m\u001b[0;34m)\u001b[0m\u001b[0;34m\u001b[0m\u001b[0m\n",
      "\u001b[0;32m/usr/local/lib/python3.5/dist-packages/seaborn/categorical.py\u001b[0m in \u001b[0;36m__init__\u001b[0;34m(self, x, y, hue, data, order, hue_order, jitter, dodge, orient, color, palette)\u001b[0m\n\u001b[1;32m   1144\u001b[0m                  jitter, dodge, orient, color, palette):\n\u001b[1;32m   1145\u001b[0m         \u001b[0;34m\"\"\"Initialize the plotter.\"\"\"\u001b[0m\u001b[0;34m\u001b[0m\u001b[0m\n\u001b[0;32m-> 1146\u001b[0;31m         \u001b[0mself\u001b[0m\u001b[0;34m.\u001b[0m\u001b[0mestablish_variables\u001b[0m\u001b[0;34m(\u001b[0m\u001b[0mx\u001b[0m\u001b[0;34m,\u001b[0m \u001b[0my\u001b[0m\u001b[0;34m,\u001b[0m \u001b[0mhue\u001b[0m\u001b[0;34m,\u001b[0m \u001b[0mdata\u001b[0m\u001b[0;34m,\u001b[0m \u001b[0morient\u001b[0m\u001b[0;34m,\u001b[0m \u001b[0morder\u001b[0m\u001b[0;34m,\u001b[0m \u001b[0mhue_order\u001b[0m\u001b[0;34m)\u001b[0m\u001b[0;34m\u001b[0m\u001b[0m\n\u001b[0m\u001b[1;32m   1147\u001b[0m         \u001b[0mself\u001b[0m\u001b[0;34m.\u001b[0m\u001b[0mestablish_colors\u001b[0m\u001b[0;34m(\u001b[0m\u001b[0mcolor\u001b[0m\u001b[0;34m,\u001b[0m \u001b[0mpalette\u001b[0m\u001b[0;34m,\u001b[0m \u001b[0;36m1\u001b[0m\u001b[0;34m)\u001b[0m\u001b[0;34m\u001b[0m\u001b[0m\n\u001b[1;32m   1148\u001b[0m \u001b[0;34m\u001b[0m\u001b[0m\n",
      "\u001b[0;32m/usr/local/lib/python3.5/dist-packages/seaborn/categorical.py\u001b[0m in \u001b[0;36mestablish_variables\u001b[0;34m(self, x, y, hue, data, orient, order, hue_order, units)\u001b[0m\n\u001b[1;32m    219\u001b[0m                     \u001b[0;31m# Group the hue data\u001b[0m\u001b[0;34m\u001b[0m\u001b[0;34m\u001b[0m\u001b[0m\n\u001b[1;32m    220\u001b[0m                     plot_hues, hue_title = self._group_longform(hue, groups,\n\u001b[0;32m--> 221\u001b[0;31m                                                                 group_names)\n\u001b[0m\u001b[1;32m    222\u001b[0m \u001b[0;34m\u001b[0m\u001b[0m\n\u001b[1;32m    223\u001b[0m                 \u001b[0;31m# Now handle the units for nested observations\u001b[0m\u001b[0;34m\u001b[0m\u001b[0;34m\u001b[0m\u001b[0m\n",
      "\u001b[0;32m/usr/local/lib/python3.5/dist-packages/seaborn/categorical.py\u001b[0m in \u001b[0;36m_group_longform\u001b[0;34m(self, vals, grouper, order)\u001b[0m\n\u001b[1;32m    251\u001b[0m \u001b[0;34m\u001b[0m\u001b[0m\n\u001b[1;32m    252\u001b[0m         \u001b[0;31m# Group the val data\u001b[0m\u001b[0;34m\u001b[0m\u001b[0;34m\u001b[0m\u001b[0m\n\u001b[0;32m--> 253\u001b[0;31m         \u001b[0mgrouped_vals\u001b[0m \u001b[0;34m=\u001b[0m \u001b[0mvals\u001b[0m\u001b[0;34m.\u001b[0m\u001b[0mgroupby\u001b[0m\u001b[0;34m(\u001b[0m\u001b[0mgrouper\u001b[0m\u001b[0;34m)\u001b[0m\u001b[0;34m\u001b[0m\u001b[0m\n\u001b[0m\u001b[1;32m    254\u001b[0m         \u001b[0mout_data\u001b[0m \u001b[0;34m=\u001b[0m \u001b[0;34m[\u001b[0m\u001b[0;34m]\u001b[0m\u001b[0;34m\u001b[0m\u001b[0m\n\u001b[1;32m    255\u001b[0m         \u001b[0;32mfor\u001b[0m \u001b[0mg\u001b[0m \u001b[0;32min\u001b[0m \u001b[0morder\u001b[0m\u001b[0;34m:\u001b[0m\u001b[0;34m\u001b[0m\u001b[0m\n",
      "\u001b[0;32m/usr/local/lib/python3.5/dist-packages/pandas/core/generic.py\u001b[0m in \u001b[0;36mgroupby\u001b[0;34m(self, by, axis, level, as_index, sort, group_keys, squeeze, observed, **kwargs)\u001b[0m\n\u001b[1;32m   7892\u001b[0m             \u001b[0msqueeze\u001b[0m\u001b[0;34m=\u001b[0m\u001b[0msqueeze\u001b[0m\u001b[0;34m,\u001b[0m\u001b[0;34m\u001b[0m\u001b[0m\n\u001b[1;32m   7893\u001b[0m             \u001b[0mobserved\u001b[0m\u001b[0;34m=\u001b[0m\u001b[0mobserved\u001b[0m\u001b[0;34m,\u001b[0m\u001b[0;34m\u001b[0m\u001b[0m\n\u001b[0;32m-> 7894\u001b[0;31m             \u001b[0;34m**\u001b[0m\u001b[0mkwargs\u001b[0m\u001b[0;34m\u001b[0m\u001b[0m\n\u001b[0m\u001b[1;32m   7895\u001b[0m         )\n\u001b[1;32m   7896\u001b[0m \u001b[0;34m\u001b[0m\u001b[0m\n",
      "\u001b[0;32m/usr/local/lib/python3.5/dist-packages/pandas/core/groupby/groupby.py\u001b[0m in \u001b[0;36mgroupby\u001b[0;34m(obj, by, **kwds)\u001b[0m\n\u001b[1;32m   2520\u001b[0m         \u001b[0;32mraise\u001b[0m \u001b[0mTypeError\u001b[0m\u001b[0;34m(\u001b[0m\u001b[0;34m\"invalid type: {}\"\u001b[0m\u001b[0;34m.\u001b[0m\u001b[0mformat\u001b[0m\u001b[0;34m(\u001b[0m\u001b[0mobj\u001b[0m\u001b[0;34m)\u001b[0m\u001b[0;34m)\u001b[0m\u001b[0;34m\u001b[0m\u001b[0m\n\u001b[1;32m   2521\u001b[0m \u001b[0;34m\u001b[0m\u001b[0m\n\u001b[0;32m-> 2522\u001b[0;31m     \u001b[0;32mreturn\u001b[0m \u001b[0mklass\u001b[0m\u001b[0;34m(\u001b[0m\u001b[0mobj\u001b[0m\u001b[0;34m,\u001b[0m \u001b[0mby\u001b[0m\u001b[0;34m,\u001b[0m \u001b[0;34m**\u001b[0m\u001b[0mkwds\u001b[0m\u001b[0;34m)\u001b[0m\u001b[0;34m\u001b[0m\u001b[0m\n\u001b[0m",
      "\u001b[0;32m/usr/local/lib/python3.5/dist-packages/pandas/core/groupby/groupby.py\u001b[0m in \u001b[0;36m__init__\u001b[0;34m(self, obj, keys, axis, level, grouper, exclusions, selection, as_index, sort, group_keys, squeeze, observed, **kwargs)\u001b[0m\n\u001b[1;32m    389\u001b[0m                 \u001b[0msort\u001b[0m\u001b[0;34m=\u001b[0m\u001b[0msort\u001b[0m\u001b[0;34m,\u001b[0m\u001b[0;34m\u001b[0m\u001b[0m\n\u001b[1;32m    390\u001b[0m                 \u001b[0mobserved\u001b[0m\u001b[0;34m=\u001b[0m\u001b[0mobserved\u001b[0m\u001b[0;34m,\u001b[0m\u001b[0;34m\u001b[0m\u001b[0m\n\u001b[0;32m--> 391\u001b[0;31m                 \u001b[0mmutated\u001b[0m\u001b[0;34m=\u001b[0m\u001b[0mself\u001b[0m\u001b[0;34m.\u001b[0m\u001b[0mmutated\u001b[0m\u001b[0;34m,\u001b[0m\u001b[0;34m\u001b[0m\u001b[0m\n\u001b[0m\u001b[1;32m    392\u001b[0m             )\n\u001b[1;32m    393\u001b[0m \u001b[0;34m\u001b[0m\u001b[0m\n",
      "\u001b[0;32m/usr/local/lib/python3.5/dist-packages/pandas/core/groupby/grouper.py\u001b[0m in \u001b[0;36m_get_grouper\u001b[0;34m(obj, key, axis, level, sort, observed, mutated, validate)\u001b[0m\n\u001b[1;32m    619\u001b[0m                 \u001b[0min_axis\u001b[0m\u001b[0;34m,\u001b[0m \u001b[0mname\u001b[0m\u001b[0;34m,\u001b[0m \u001b[0mlevel\u001b[0m\u001b[0;34m,\u001b[0m \u001b[0mgpr\u001b[0m \u001b[0;34m=\u001b[0m \u001b[0;32mFalse\u001b[0m\u001b[0;34m,\u001b[0m \u001b[0;32mNone\u001b[0m\u001b[0;34m,\u001b[0m \u001b[0mgpr\u001b[0m\u001b[0;34m,\u001b[0m \u001b[0;32mNone\u001b[0m\u001b[0;34m\u001b[0m\u001b[0m\n\u001b[1;32m    620\u001b[0m             \u001b[0;32melse\u001b[0m\u001b[0;34m:\u001b[0m\u001b[0;34m\u001b[0m\u001b[0m\n\u001b[0;32m--> 621\u001b[0;31m                 \u001b[0;32mraise\u001b[0m \u001b[0mKeyError\u001b[0m\u001b[0;34m(\u001b[0m\u001b[0mgpr\u001b[0m\u001b[0;34m)\u001b[0m\u001b[0;34m\u001b[0m\u001b[0m\n\u001b[0m\u001b[1;32m    622\u001b[0m         \u001b[0;32melif\u001b[0m \u001b[0misinstance\u001b[0m\u001b[0;34m(\u001b[0m\u001b[0mgpr\u001b[0m\u001b[0;34m,\u001b[0m \u001b[0mGrouper\u001b[0m\u001b[0;34m)\u001b[0m \u001b[0;32mand\u001b[0m \u001b[0mgpr\u001b[0m\u001b[0;34m.\u001b[0m\u001b[0mkey\u001b[0m \u001b[0;32mis\u001b[0m \u001b[0;32mnot\u001b[0m \u001b[0;32mNone\u001b[0m\u001b[0;34m:\u001b[0m\u001b[0;34m\u001b[0m\u001b[0m\n\u001b[1;32m    623\u001b[0m             \u001b[0;31m# Add key to exclusions\u001b[0m\u001b[0;34m\u001b[0m\u001b[0;34m\u001b[0m\u001b[0m\n",
      "\u001b[0;31mKeyError\u001b[0m: 'social_distancing'"
     ]
    }
   ],
   "source": [
    "def acc_plot2(value_pos, value_neg, safe_test):\n",
    "    rcParams['figure.figsize'] = 15,9\n",
    "    \n",
    "    myplot= stripplot(value_pos + value_neg, safe_test['pos'] + safe_test['neg'], [1]*7+[0]*9, size=10)\n",
    "    L= plt.legend(loc=\"upper left\", bbox_to_anchor=[0, 1],\n",
    "               ncol=2, shadow=True, title=\"True Class\", fancybox=True)\n",
    "    plt.ylabel(\"Testing Words\")\n",
    "    plt.xlabel(\"Cosine similarity to dimension, possible range -1 (risky) to +1 (safe)\" )\n",
    "    L.get_texts()[0].set_text('risky')\n",
    "    L.get_texts()[1].set_text('safe')\n",
    "    \n",
    "    plt.axvline(x=0, color='red', linestyle='dashed')\n",
    "    plt.title(\"Cosine similarity between testing words and \"+ 'safe' + \" dimension\" )\n",
    "    myplot.grid(b=True, linestyle='dashed')\n",
    "    plt.show()\n",
    "    \n",
    "acc_plot2(value_pos, value_neg, safe_test)"
   ]
  },
  {
   "cell_type": "code",
   "execution_count": null,
   "metadata": {},
   "outputs": [],
   "source": []
  }
 ],
 "metadata": {
  "kernelspec": {
   "display_name": "Python 3",
   "language": "python",
   "name": "python3"
  },
  "language_info": {
   "codemirror_mode": {
    "name": "ipython",
    "version": 3
   },
   "file_extension": ".py",
   "mimetype": "text/x-python",
   "name": "python",
   "nbconvert_exporter": "python",
   "pygments_lexer": "ipython3",
   "version": "3.5.3"
  }
 },
 "nbformat": 4,
 "nbformat_minor": 4
}
