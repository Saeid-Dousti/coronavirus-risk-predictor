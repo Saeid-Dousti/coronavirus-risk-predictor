{
 "cells": [
  {
   "cell_type": "code",
   "execution_count": 18,
   "metadata": {},
   "outputs": [
    {
     "name": "stderr",
     "output_type": "stream",
     "text": [
      "[nltk_data] Downloading package vader_lexicon to\n",
      "[nltk_data]     /home/schaa/nltk_data...\n",
      "[nltk_data]   Package vader_lexicon is already up-to-date!\n"
     ]
    }
   ],
   "source": [
    "import nltk\n",
    "nltk.download('vader_lexicon')\n",
    "from nltk.sentiment.vader import SentimentIntensityAnalyzer\n",
    "import datetime\n",
    "import jsonlines"
   ]
  },
  {
   "cell_type": "code",
   "execution_count": null,
   "metadata": {},
   "outputs": [],
   "source": [
    "def word_search_news(word, date, location):\n",
    "    directory = '/home/schaa/Insight_Project_Framework/data/raw/news_data/aylien-covid-news.jsonl'\n",
    "    dateformat = \"%Y-%m-%d\"\n",
    "    location = location.lower()\n",
    "    startdate = datetime.datetime.strptime(date, dateformat)\n",
    "    enddate = startdate + datetime.timedelta(days = 7)\n",
    "    text = ''\n",
    "    \n",
    "    with jsonlines.open(directory) as json_f:\n",
    "        for i,line in enumerate(json_f.iter()):\n",
    "            published = datetime.datetime.strptime(line['published_at'][:-6], dateformat + ' %H:%M:%S')\n",
    "            if published > enddate:\n",
    "                continue\n",
    "            elif published < startdate:\n",
    "                break\n",
    "            if len(line['source']['locations']) != 0:\n",
    "                if line['source']['locations'][0]['country'] is not None:\n",
    "                    country = line['source']['locations'][0]['country'].lower()\n",
    "                else:\n",
    "                    country = None\n",
    "                if line['source']['locations'][0]['state'] is not None:\n",
    "                    state = line['source']['locations'][0]['country'].lower()\n",
    "                else:\n",
    "                    state = None\n",
    "            \n",
    "            else:\n",
    "                country = None\n",
    "                state = None\n",
    "            \n",
    "            if word.lower() in line['body'].lower() and country is not None and location in country: \n",
    "                text += line['title'] + \". \" + line['body']\n",
    "    return text\n",
    "     \n",
    "def sentiment_analysis(word, date, location):\n",
    "    num = 0\n",
    "    score = 0\n",
    "    text = word_search_news(word, date, location)\n",
    "    if text == \"\":\n",
    "        return 0\n",
    "    sid = SentimentIntensityAnalyzer()\n",
    "\n",
    "    for sent in text.split('.'):\n",
    "        if word in sent.lower():\n",
    "            score += sid.polarity_scores(sent)['compound']\n",
    "            print(sent)\n",
    "            print(sid.polarity_scores(sent))\n",
    "            num += 1\n",
    "    return score/num\n",
    "\n",
    "sentiment_analysis('gym', '2020-03-23', 'us')"
   ]
  },
  {
   "cell_type": "code",
   "execution_count": 13,
   "metadata": {},
   "outputs": [
    {
     "ename": "NameError",
     "evalue": "name 'sentence' is not defined",
     "output_type": "error",
     "traceback": [
      "\u001b[0;31m---------------------------------------------------------------------------\u001b[0m",
      "\u001b[0;31mNameError\u001b[0m                                 Traceback (most recent call last)",
      "\u001b[0;32m<ipython-input-13-cf2702a67992>\u001b[0m in \u001b[0;36m<module>\u001b[0;34m\u001b[0m\n\u001b[1;32m      1\u001b[0m \u001b[0msid\u001b[0m \u001b[0;34m=\u001b[0m \u001b[0mSentimentIntensityAnalyzer\u001b[0m\u001b[0;34m(\u001b[0m\u001b[0;34m)\u001b[0m\u001b[0;34m\u001b[0m\u001b[0m\n\u001b[0;32m----> 2\u001b[0;31m \u001b[0msid\u001b[0m\u001b[0;34m.\u001b[0m\u001b[0mpolarity_scores\u001b[0m\u001b[0;34m(\u001b[0m\u001b[0msentence\u001b[0m\u001b[0;34m)\u001b[0m\u001b[0;34m\u001b[0m\u001b[0m\n\u001b[0m",
      "\u001b[0;31mNameError\u001b[0m: name 'sentence' is not defined"
     ]
    }
   ],
   "source": []
  }
 ],
 "metadata": {
  "kernelspec": {
   "display_name": "Python 3",
   "language": "python",
   "name": "python3"
  },
  "language_info": {
   "codemirror_mode": {
    "name": "ipython",
    "version": 3
   },
   "file_extension": ".py",
   "mimetype": "text/x-python",
   "name": "python",
   "nbconvert_exporter": "python",
   "pygments_lexer": "ipython3",
   "version": "3.5.3"
  }
 },
 "nbformat": 4,
 "nbformat_minor": 4
}
